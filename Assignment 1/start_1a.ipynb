{
  "nbformat": 4,
  "nbformat_minor": 0,
  "metadata": {
    "colab": {
      "name": "start_1a.ipynb",
      "provenance": [],
      "collapsed_sections": []
    },
    "kernelspec": {
      "name": "python3",
      "display_name": "Python 3.9.6 64-bit ('py39': conda)"
    },
    "language_info": {
      "codemirror_mode": {
        "name": "ipython",
        "version": 3
      },
      "file_extension": ".py",
      "mimetype": "text/x-python",
      "name": "python",
      "nbconvert_exporter": "python",
      "pygments_lexer": "ipython3",
      "version": "3.9.6"
    },
    "interpreter": {
      "hash": "f0ca31ee8bacb6d5c86a87937f17b5ffe89d783dfdd3e0338ef63a30562a16fa"
    },
    "accelerator": "TPU"
  },
  "cells": [
    {
      "cell_type": "markdown",
      "metadata": {
        "id": "qcGfKdvhUawM"
      },
      "source": [
        "# Content\n",
        "\n",
        "*    ### [Setup ](#SETUP)\n",
        "*    ### [Question 1](#Q1)\n",
        "*    ### [Question 2](#Q2)\n",
        "*    ### [Question 3](#Q3)\n",
        "*    ### [Question 4](#Q4)\n",
        "*    ### [Question 5](#Q5)\n",
        "*    ### [Discussion](#Discuss)\n",
        "\n"
      ]
    },
    {
      "cell_type": "markdown",
      "metadata": {
        "id": "RUMrioqTXoDh"
      },
      "source": [
        "# <a name=\"SETUP\">Setup</a>"
      ]
    },
    {
      "cell_type": "code",
      "metadata": {
        "id": "YM8unKH7nSIM"
      },
      "source": [
        "# import Libraries\n",
        "import tensorflow\n",
        "import pandas as pd\n",
        "import time\n",
        "import numpy as np\n",
        "\n",
        "# tensorflow libraries\n",
        "import tensorflow as tf\n",
        "import tensorflow.keras as keras\n",
        "from tensorflow.keras import Sequential\n",
        "from tensorflow.keras.layers import Dense, Dropout\n",
        "\n",
        "# sklearn libraries are useful for preprocessing, performance measures, etc.\n",
        "from sklearn import preprocessing\n",
        "from sklearn.model_selection import KFold\n",
        "from sklearn.model_selection import train_test_split\n",
        "\n",
        "import matplotlib.pyplot as plt\n",
        "import seaborn as sns"
      ],
      "execution_count": 1,
      "outputs": []
    },
    {
      "cell_type": "markdown",
      "metadata": {
        "id": "gmTBl3xoqA9g"
      },
      "source": [
        "## Data Preperation"
      ]
    },
    {
      "cell_type": "code",
      "metadata": {
        "id": "An4b9d12p8u2",
        "colab": {
          "base_uri": "https://localhost:8080/",
          "height": 224
        },
        "outputId": "52d22539-78f4-4190-d313-8be64c819d36"
      },
      "source": [
        "df = pd.read_csv('./features_30_sec.csv')\n",
        "df.head()"
      ],
      "execution_count": 2,
      "outputs": [
        {
          "output_type": "execute_result",
          "data": {
            "text/html": [
              "<div>\n",
              "<style scoped>\n",
              "    .dataframe tbody tr th:only-of-type {\n",
              "        vertical-align: middle;\n",
              "    }\n",
              "\n",
              "    .dataframe tbody tr th {\n",
              "        vertical-align: top;\n",
              "    }\n",
              "\n",
              "    .dataframe thead th {\n",
              "        text-align: right;\n",
              "    }\n",
              "</style>\n",
              "<table border=\"1\" class=\"dataframe\">\n",
              "  <thead>\n",
              "    <tr style=\"text-align: right;\">\n",
              "      <th></th>\n",
              "      <th>filename</th>\n",
              "      <th>length</th>\n",
              "      <th>chroma_stft_mean</th>\n",
              "      <th>chroma_stft_var</th>\n",
              "      <th>rms_mean</th>\n",
              "      <th>rms_var</th>\n",
              "      <th>spectral_centroid_mean</th>\n",
              "      <th>spectral_centroid_var</th>\n",
              "      <th>spectral_bandwidth_mean</th>\n",
              "      <th>spectral_bandwidth_var</th>\n",
              "      <th>rolloff_mean</th>\n",
              "      <th>rolloff_var</th>\n",
              "      <th>zero_crossing_rate_mean</th>\n",
              "      <th>zero_crossing_rate_var</th>\n",
              "      <th>harmony_mean</th>\n",
              "      <th>harmony_var</th>\n",
              "      <th>perceptr_mean</th>\n",
              "      <th>perceptr_var</th>\n",
              "      <th>tempo</th>\n",
              "      <th>mfcc1_mean</th>\n",
              "      <th>mfcc1_var</th>\n",
              "      <th>mfcc2_mean</th>\n",
              "      <th>mfcc2_var</th>\n",
              "      <th>mfcc3_mean</th>\n",
              "      <th>mfcc3_var</th>\n",
              "      <th>mfcc4_mean</th>\n",
              "      <th>mfcc4_var</th>\n",
              "      <th>mfcc5_mean</th>\n",
              "      <th>mfcc5_var</th>\n",
              "      <th>mfcc6_mean</th>\n",
              "      <th>mfcc6_var</th>\n",
              "      <th>mfcc7_mean</th>\n",
              "      <th>mfcc7_var</th>\n",
              "      <th>mfcc8_mean</th>\n",
              "      <th>mfcc8_var</th>\n",
              "      <th>mfcc9_mean</th>\n",
              "      <th>mfcc9_var</th>\n",
              "      <th>mfcc10_mean</th>\n",
              "      <th>mfcc10_var</th>\n",
              "      <th>mfcc11_mean</th>\n",
              "      <th>mfcc11_var</th>\n",
              "      <th>mfcc12_mean</th>\n",
              "      <th>mfcc12_var</th>\n",
              "      <th>mfcc13_mean</th>\n",
              "      <th>mfcc13_var</th>\n",
              "      <th>mfcc14_mean</th>\n",
              "      <th>mfcc14_var</th>\n",
              "      <th>mfcc15_mean</th>\n",
              "      <th>mfcc15_var</th>\n",
              "      <th>mfcc16_mean</th>\n",
              "      <th>mfcc16_var</th>\n",
              "      <th>mfcc17_mean</th>\n",
              "      <th>mfcc17_var</th>\n",
              "      <th>mfcc18_mean</th>\n",
              "      <th>mfcc18_var</th>\n",
              "      <th>mfcc19_mean</th>\n",
              "      <th>mfcc19_var</th>\n",
              "      <th>mfcc20_mean</th>\n",
              "      <th>mfcc20_var</th>\n",
              "      <th>label</th>\n",
              "    </tr>\n",
              "  </thead>\n",
              "  <tbody>\n",
              "    <tr>\n",
              "      <th>0</th>\n",
              "      <td>blues.00000.wav</td>\n",
              "      <td>661794</td>\n",
              "      <td>0.350088</td>\n",
              "      <td>0.088757</td>\n",
              "      <td>0.130228</td>\n",
              "      <td>0.002827</td>\n",
              "      <td>1784.165850</td>\n",
              "      <td>129774.064525</td>\n",
              "      <td>2002.449060</td>\n",
              "      <td>85882.761315</td>\n",
              "      <td>3805.839606</td>\n",
              "      <td>9.015054e+05</td>\n",
              "      <td>0.083045</td>\n",
              "      <td>0.000767</td>\n",
              "      <td>-4.529724e-05</td>\n",
              "      <td>0.008172</td>\n",
              "      <td>0.000008</td>\n",
              "      <td>0.005698</td>\n",
              "      <td>123.046875</td>\n",
              "      <td>-113.570648</td>\n",
              "      <td>2564.207520</td>\n",
              "      <td>121.571793</td>\n",
              "      <td>295.913818</td>\n",
              "      <td>-19.168142</td>\n",
              "      <td>235.574432</td>\n",
              "      <td>42.366421</td>\n",
              "      <td>151.106873</td>\n",
              "      <td>-6.364664</td>\n",
              "      <td>167.934799</td>\n",
              "      <td>18.623499</td>\n",
              "      <td>89.180840</td>\n",
              "      <td>-13.704891</td>\n",
              "      <td>67.660492</td>\n",
              "      <td>15.343150</td>\n",
              "      <td>68.932579</td>\n",
              "      <td>-12.274110</td>\n",
              "      <td>82.204201</td>\n",
              "      <td>10.976572</td>\n",
              "      <td>63.386311</td>\n",
              "      <td>-8.326573</td>\n",
              "      <td>61.773094</td>\n",
              "      <td>8.803792</td>\n",
              "      <td>51.244125</td>\n",
              "      <td>-3.672300</td>\n",
              "      <td>41.217415</td>\n",
              "      <td>5.747995</td>\n",
              "      <td>40.554478</td>\n",
              "      <td>-5.162882</td>\n",
              "      <td>49.775421</td>\n",
              "      <td>0.752740</td>\n",
              "      <td>52.420910</td>\n",
              "      <td>-1.690215</td>\n",
              "      <td>36.524071</td>\n",
              "      <td>-0.408979</td>\n",
              "      <td>41.597103</td>\n",
              "      <td>-2.303523</td>\n",
              "      <td>55.062923</td>\n",
              "      <td>1.221291</td>\n",
              "      <td>46.936035</td>\n",
              "      <td>blues</td>\n",
              "    </tr>\n",
              "    <tr>\n",
              "      <th>1</th>\n",
              "      <td>blues.00001.wav</td>\n",
              "      <td>661794</td>\n",
              "      <td>0.340914</td>\n",
              "      <td>0.094980</td>\n",
              "      <td>0.095948</td>\n",
              "      <td>0.002373</td>\n",
              "      <td>1530.176679</td>\n",
              "      <td>375850.073649</td>\n",
              "      <td>2039.036516</td>\n",
              "      <td>213843.755497</td>\n",
              "      <td>3550.522098</td>\n",
              "      <td>2.977893e+06</td>\n",
              "      <td>0.056040</td>\n",
              "      <td>0.001448</td>\n",
              "      <td>1.395807e-04</td>\n",
              "      <td>0.005099</td>\n",
              "      <td>-0.000178</td>\n",
              "      <td>0.003063</td>\n",
              "      <td>67.999589</td>\n",
              "      <td>-207.501694</td>\n",
              "      <td>7764.555176</td>\n",
              "      <td>123.991264</td>\n",
              "      <td>560.259949</td>\n",
              "      <td>8.955127</td>\n",
              "      <td>572.810913</td>\n",
              "      <td>35.877647</td>\n",
              "      <td>264.506104</td>\n",
              "      <td>2.907320</td>\n",
              "      <td>279.932922</td>\n",
              "      <td>21.510466</td>\n",
              "      <td>156.477097</td>\n",
              "      <td>-8.560436</td>\n",
              "      <td>200.849182</td>\n",
              "      <td>23.370686</td>\n",
              "      <td>142.555954</td>\n",
              "      <td>-10.099661</td>\n",
              "      <td>166.108521</td>\n",
              "      <td>11.900497</td>\n",
              "      <td>104.358612</td>\n",
              "      <td>-5.555639</td>\n",
              "      <td>105.173630</td>\n",
              "      <td>5.376327</td>\n",
              "      <td>96.197212</td>\n",
              "      <td>-2.231760</td>\n",
              "      <td>64.914291</td>\n",
              "      <td>4.220140</td>\n",
              "      <td>73.152534</td>\n",
              "      <td>-6.012148</td>\n",
              "      <td>52.422142</td>\n",
              "      <td>0.927998</td>\n",
              "      <td>55.356403</td>\n",
              "      <td>-0.731125</td>\n",
              "      <td>60.314529</td>\n",
              "      <td>0.295073</td>\n",
              "      <td>48.120598</td>\n",
              "      <td>-0.283518</td>\n",
              "      <td>51.106190</td>\n",
              "      <td>0.531217</td>\n",
              "      <td>45.786282</td>\n",
              "      <td>blues</td>\n",
              "    </tr>\n",
              "    <tr>\n",
              "      <th>2</th>\n",
              "      <td>blues.00002.wav</td>\n",
              "      <td>661794</td>\n",
              "      <td>0.363637</td>\n",
              "      <td>0.085275</td>\n",
              "      <td>0.175570</td>\n",
              "      <td>0.002746</td>\n",
              "      <td>1552.811865</td>\n",
              "      <td>156467.643368</td>\n",
              "      <td>1747.702312</td>\n",
              "      <td>76254.192257</td>\n",
              "      <td>3042.260232</td>\n",
              "      <td>7.840345e+05</td>\n",
              "      <td>0.076291</td>\n",
              "      <td>0.001007</td>\n",
              "      <td>2.105576e-06</td>\n",
              "      <td>0.016342</td>\n",
              "      <td>-0.000019</td>\n",
              "      <td>0.007458</td>\n",
              "      <td>161.499023</td>\n",
              "      <td>-90.722595</td>\n",
              "      <td>3319.044922</td>\n",
              "      <td>140.446304</td>\n",
              "      <td>508.765045</td>\n",
              "      <td>-29.093889</td>\n",
              "      <td>411.781219</td>\n",
              "      <td>31.684334</td>\n",
              "      <td>144.090317</td>\n",
              "      <td>-13.984504</td>\n",
              "      <td>155.493759</td>\n",
              "      <td>25.764742</td>\n",
              "      <td>74.548401</td>\n",
              "      <td>-13.664875</td>\n",
              "      <td>106.981827</td>\n",
              "      <td>11.639934</td>\n",
              "      <td>106.574875</td>\n",
              "      <td>-11.783643</td>\n",
              "      <td>65.447945</td>\n",
              "      <td>9.718760</td>\n",
              "      <td>67.908859</td>\n",
              "      <td>-13.133803</td>\n",
              "      <td>57.781425</td>\n",
              "      <td>5.791199</td>\n",
              "      <td>64.480209</td>\n",
              "      <td>-8.907628</td>\n",
              "      <td>60.385151</td>\n",
              "      <td>-1.077000</td>\n",
              "      <td>57.711136</td>\n",
              "      <td>-9.229274</td>\n",
              "      <td>36.580986</td>\n",
              "      <td>2.451690</td>\n",
              "      <td>40.598766</td>\n",
              "      <td>-7.729093</td>\n",
              "      <td>47.639427</td>\n",
              "      <td>-1.816407</td>\n",
              "      <td>52.382141</td>\n",
              "      <td>-3.439720</td>\n",
              "      <td>46.639660</td>\n",
              "      <td>-2.231258</td>\n",
              "      <td>30.573025</td>\n",
              "      <td>blues</td>\n",
              "    </tr>\n",
              "    <tr>\n",
              "      <th>3</th>\n",
              "      <td>blues.00003.wav</td>\n",
              "      <td>661794</td>\n",
              "      <td>0.404785</td>\n",
              "      <td>0.093999</td>\n",
              "      <td>0.141093</td>\n",
              "      <td>0.006346</td>\n",
              "      <td>1070.106615</td>\n",
              "      <td>184355.942417</td>\n",
              "      <td>1596.412872</td>\n",
              "      <td>166441.494769</td>\n",
              "      <td>2184.745799</td>\n",
              "      <td>1.493194e+06</td>\n",
              "      <td>0.033309</td>\n",
              "      <td>0.000423</td>\n",
              "      <td>4.583644e-07</td>\n",
              "      <td>0.019054</td>\n",
              "      <td>-0.000014</td>\n",
              "      <td>0.002712</td>\n",
              "      <td>63.024009</td>\n",
              "      <td>-199.544205</td>\n",
              "      <td>5507.517090</td>\n",
              "      <td>150.090897</td>\n",
              "      <td>456.505402</td>\n",
              "      <td>5.662678</td>\n",
              "      <td>257.161163</td>\n",
              "      <td>26.859079</td>\n",
              "      <td>158.267303</td>\n",
              "      <td>1.771399</td>\n",
              "      <td>268.034393</td>\n",
              "      <td>14.234031</td>\n",
              "      <td>126.794128</td>\n",
              "      <td>-4.832006</td>\n",
              "      <td>155.912079</td>\n",
              "      <td>9.286494</td>\n",
              "      <td>81.273743</td>\n",
              "      <td>-0.759186</td>\n",
              "      <td>92.114090</td>\n",
              "      <td>8.137607</td>\n",
              "      <td>71.314079</td>\n",
              "      <td>-3.200653</td>\n",
              "      <td>110.236687</td>\n",
              "      <td>6.079319</td>\n",
              "      <td>48.251999</td>\n",
              "      <td>-2.480174</td>\n",
              "      <td>56.799400</td>\n",
              "      <td>-1.079305</td>\n",
              "      <td>62.289902</td>\n",
              "      <td>-2.870789</td>\n",
              "      <td>51.651592</td>\n",
              "      <td>0.780874</td>\n",
              "      <td>44.427753</td>\n",
              "      <td>-3.319597</td>\n",
              "      <td>50.206673</td>\n",
              "      <td>0.636965</td>\n",
              "      <td>37.319130</td>\n",
              "      <td>-0.619121</td>\n",
              "      <td>37.259739</td>\n",
              "      <td>-3.407448</td>\n",
              "      <td>31.949339</td>\n",
              "      <td>blues</td>\n",
              "    </tr>\n",
              "    <tr>\n",
              "      <th>4</th>\n",
              "      <td>blues.00004.wav</td>\n",
              "      <td>661794</td>\n",
              "      <td>0.308526</td>\n",
              "      <td>0.087841</td>\n",
              "      <td>0.091529</td>\n",
              "      <td>0.002303</td>\n",
              "      <td>1835.004266</td>\n",
              "      <td>343399.939274</td>\n",
              "      <td>1748.172116</td>\n",
              "      <td>88445.209036</td>\n",
              "      <td>3579.757627</td>\n",
              "      <td>1.572978e+06</td>\n",
              "      <td>0.101461</td>\n",
              "      <td>0.001954</td>\n",
              "      <td>-1.756129e-05</td>\n",
              "      <td>0.004814</td>\n",
              "      <td>-0.000010</td>\n",
              "      <td>0.003094</td>\n",
              "      <td>135.999178</td>\n",
              "      <td>-160.337708</td>\n",
              "      <td>5195.291992</td>\n",
              "      <td>126.219635</td>\n",
              "      <td>853.784729</td>\n",
              "      <td>-35.587811</td>\n",
              "      <td>333.792938</td>\n",
              "      <td>22.148071</td>\n",
              "      <td>193.456100</td>\n",
              "      <td>-32.478600</td>\n",
              "      <td>336.276825</td>\n",
              "      <td>10.852294</td>\n",
              "      <td>134.831573</td>\n",
              "      <td>-23.352329</td>\n",
              "      <td>93.257095</td>\n",
              "      <td>0.498434</td>\n",
              "      <td>124.672127</td>\n",
              "      <td>-11.793437</td>\n",
              "      <td>130.073349</td>\n",
              "      <td>1.207256</td>\n",
              "      <td>99.675575</td>\n",
              "      <td>-13.088418</td>\n",
              "      <td>80.254066</td>\n",
              "      <td>-2.813867</td>\n",
              "      <td>86.430626</td>\n",
              "      <td>-6.933385</td>\n",
              "      <td>89.555443</td>\n",
              "      <td>-7.552725</td>\n",
              "      <td>70.943336</td>\n",
              "      <td>-9.164666</td>\n",
              "      <td>75.793404</td>\n",
              "      <td>-4.520576</td>\n",
              "      <td>86.099236</td>\n",
              "      <td>-5.454034</td>\n",
              "      <td>75.269707</td>\n",
              "      <td>-0.916874</td>\n",
              "      <td>53.613918</td>\n",
              "      <td>-4.404827</td>\n",
              "      <td>62.910812</td>\n",
              "      <td>-11.703234</td>\n",
              "      <td>55.195160</td>\n",
              "      <td>blues</td>\n",
              "    </tr>\n",
              "  </tbody>\n",
              "</table>\n",
              "</div>"
            ],
            "text/plain": [
              "          filename  length  chroma_stft_mean  ...  mfcc20_mean  mfcc20_var  label\n",
              "0  blues.00000.wav  661794          0.350088  ...     1.221291   46.936035  blues\n",
              "1  blues.00001.wav  661794          0.340914  ...     0.531217   45.786282  blues\n",
              "2  blues.00002.wav  661794          0.363637  ...    -2.231258   30.573025  blues\n",
              "3  blues.00003.wav  661794          0.404785  ...    -3.407448   31.949339  blues\n",
              "4  blues.00004.wav  661794          0.308526  ...   -11.703234   55.195160  blues\n",
              "\n",
              "[5 rows x 60 columns]"
            ]
          },
          "metadata": {},
          "execution_count": 2
        }
      ]
    },
    {
      "cell_type": "code",
      "metadata": {
        "id": "CHZQbQVzqGIA",
        "colab": {
          "base_uri": "https://localhost:8080/"
        },
        "outputId": "a040b333-c362-4ad0-a9a1-4a5327f98c1c"
      },
      "source": [
        "# Check class distribution\n",
        "df['label'].value_counts()"
      ],
      "execution_count": 3,
      "outputs": [
        {
          "output_type": "execute_result",
          "data": {
            "text/plain": [
              "hiphop       100\n",
              "pop          100\n",
              "rock         100\n",
              "metal        100\n",
              "reggae       100\n",
              "disco        100\n",
              "classical    100\n",
              "blues        100\n",
              "jazz         100\n",
              "country      100\n",
              "Name: label, dtype: int64"
            ]
          },
          "metadata": {},
          "execution_count": 3
        }
      ]
    },
    {
      "cell_type": "markdown",
      "metadata": {
        "id": "1zp_RDMgqL9Z"
      },
      "source": [
        "### Split and scale dataset"
      ]
    },
    {
      "cell_type": "code",
      "metadata": {
        "id": "2fNTd9t7qHCI"
      },
      "source": [
        "columns_to_drop = ['label','filename', 'length']\n",
        "\n",
        "def prepare_dataset(df, columns_to_drop, test_size, random_state):\n",
        "\n",
        "    # Encode the labels from 0 to n_classes-1  \n",
        "    label_encoder = preprocessing.LabelEncoder()\n",
        "    df['label'] = label_encoder.fit_transform(df['label'])\n",
        "  \n",
        "    # devide data to train and test\n",
        "    df_train, df_test = train_test_split(df, test_size=test_size, random_state=random_state)\n",
        "    \n",
        "    # scale the training inputs\n",
        "    x_train = df_train.drop(columns_to_drop,axis=1)\n",
        "    y_train = df_train['label'].to_numpy()\n",
        "    \n",
        "    standard_scaler = preprocessing.StandardScaler()\n",
        "    x_train_scaled = standard_scaler.fit_transform(x_train)\n",
        "\n",
        "    #scale and prepare testing data\n",
        "    x_test = df_test.drop(columns_to_drop,axis=1)\n",
        "    x_test_scaled = standard_scaler.transform(x_test)\n",
        "    y_test = df_test['label'].to_numpy() \n",
        "  \n",
        "    return x_train_scaled, y_train, x_test_scaled, y_test"
      ],
      "execution_count": 4,
      "outputs": []
    },
    {
      "cell_type": "code",
      "metadata": {
        "id": "Ble9SQ1uju-S",
        "colab": {
          "base_uri": "https://localhost:8080/"
        },
        "outputId": "b5d3e6c8-484e-41ce-f00b-60e33008b23a"
      },
      "source": [
        "X_train, y_train, X_test, y_test = prepare_dataset(df, columns_to_drop, test_size=0.3, random_state=0)\n",
        "\n",
        "print(X_train.shape, y_train.shape) \n",
        "print(X_test.shape, y_test.shape)"
      ],
      "execution_count": 5,
      "outputs": [
        {
          "output_type": "stream",
          "name": "stdout",
          "text": [
            "(700, 57) (700,)\n",
            "(300, 57) (300,)\n"
          ]
        }
      ]
    },
    {
      "cell_type": "code",
      "metadata": {
        "colab": {
          "base_uri": "https://localhost:8080/"
        },
        "id": "naCfjSlU2JoB",
        "outputId": "3f78e017-fedb-4b13-90ba-5d0c3e212baf"
      },
      "source": [
        "# Convert labels to binary class matrix for Softmax\n",
        "num_labels=len(df['label'].unique())\n",
        "y_train = keras.utils.to_categorical(y_train, num_labels)\n",
        "y_test = keras.utils.to_categorical(y_test, num_labels)\n",
        "# Check data shape before training\n",
        "print(X_train.shape, y_train.shape) \n",
        "print(X_test.shape, y_test.shape)"
      ],
      "execution_count": 6,
      "outputs": [
        {
          "output_type": "stream",
          "name": "stdout",
          "text": [
            "(700, 57) (700, 10)\n",
            "(300, 57) (300, 10)\n"
          ]
        }
      ]
    },
    {
      "cell_type": "markdown",
      "metadata": {
        "id": "AcgoXTVwX-ai"
      },
      "source": [
        "### Functions to plot model performance"
      ]
    },
    {
      "cell_type": "code",
      "metadata": {
        "id": "ldgR07R5ju-W"
      },
      "source": [
        "def plot_accuracy(model):\n",
        "    plt.plot(model.history['accuracy'])\n",
        "    plt.plot(model.history['val_accuracy'])\n",
        "    plt.title('Accuracy of Training and Testing Data')\n",
        "    plt.ylabel('Accuracy')\n",
        "    plt.xlabel('Training epochs')\n",
        "    plt.legend(['Train', 'Test'], loc='upper left')\n",
        "    plt.show()"
      ],
      "execution_count": 7,
      "outputs": []
    },
    {
      "cell_type": "code",
      "metadata": {
        "id": "VzJyZjajju-W"
      },
      "source": [
        "def plot_loss(model):\n",
        "    plt.plot(model.history['loss'])\n",
        "    plt.plot(model.history['val_loss'])\n",
        "    plt.title('Model Loss')\n",
        "    plt.ylabel('Loss')\n",
        "    plt.xlabel('Training epochs')\n",
        "    plt.legend(['Train', 'Test'], loc='upper left')\n",
        "    plt.show()"
      ],
      "execution_count": 8,
      "outputs": []
    },
    {
      "cell_type": "markdown",
      "metadata": {
        "id": "szrp9DpGju-S"
      },
      "source": [
        "# <a name=\"Q1\">Question 1</a>"
      ]
    },
    {
      "cell_type": "code",
      "metadata": {
        "id": "Rna-dLuLju-U",
        "colab": {
          "base_uri": "https://localhost:8080/"
        },
        "outputId": "97ec57d8-311f-4bac-e2d7-4dd0a20b0eb3"
      },
      "source": [
        "# Model Architecture\n",
        "model = Sequential([\n",
        "    Dense(16, activation='relu', input_shape=(57,)),\n",
        "    Dropout(0.3),\n",
        "    Dense(units = num_labels, activation='softmax')\n",
        "])\n",
        "\n",
        "model.summary()"
      ],
      "execution_count": 9,
      "outputs": [
        {
          "output_type": "stream",
          "name": "stdout",
          "text": [
            "Model: \"sequential\"\n",
            "_________________________________________________________________\n",
            "Layer (type)                 Output Shape              Param #   \n",
            "=================================================================\n",
            "dense (Dense)                (None, 16)                928       \n",
            "_________________________________________________________________\n",
            "dropout (Dropout)            (None, 16)                0         \n",
            "_________________________________________________________________\n",
            "dense_1 (Dense)              (None, 10)                170       \n",
            "=================================================================\n",
            "Total params: 1,098\n",
            "Trainable params: 1,098\n",
            "Non-trainable params: 0\n",
            "_________________________________________________________________\n"
          ]
        }
      ]
    },
    {
      "cell_type": "code",
      "metadata": {
        "id": "nGFA3yDlju-V"
      },
      "source": [
        "model.compile(optimizer='adam',\n",
        "              loss='categorical_crossentropy',\n",
        "              metrics=['accuracy'])"
      ],
      "execution_count": 10,
      "outputs": []
    },
    {
      "cell_type": "markdown",
      "metadata": {
        "id": "9hb2CSSrJune"
      },
      "source": [
        "## Question 1 Part A"
      ]
    },
    {
      "cell_type": "code",
      "metadata": {
        "colab": {
          "base_uri": "https://localhost:8080/"
        },
        "id": "EEJG2hBoju-V",
        "outputId": "59a3ff63-c40c-4631-d6ef-2d8318632ff0"
      },
      "source": [
        "history = model.fit(\n",
        "    X_train, y_train,batch_size=1, epochs=50, verbose=1,validation_data=(X_test, y_test)\n",
        ")\n",
        "keras.backend.clear_session()"
      ],
      "execution_count": 11,
      "outputs": [
        {
          "output_type": "stream",
          "name": "stdout",
          "text": [
            "Epoch 1/50\n",
            "700/700 [==============================] - 2s 2ms/step - loss: 2.0120 - accuracy: 0.2971 - val_loss: 1.6561 - val_accuracy: 0.4167\n",
            "Epoch 2/50\n",
            "700/700 [==============================] - 1s 2ms/step - loss: 1.6024 - accuracy: 0.4457 - val_loss: 1.4230 - val_accuracy: 0.5133\n",
            "Epoch 3/50\n",
            "700/700 [==============================] - 1s 2ms/step - loss: 1.3981 - accuracy: 0.5100 - val_loss: 1.3237 - val_accuracy: 0.5367\n",
            "Epoch 4/50\n",
            "700/700 [==============================] - 1s 2ms/step - loss: 1.3134 - accuracy: 0.5257 - val_loss: 1.2339 - val_accuracy: 0.5633\n",
            "Epoch 5/50\n",
            "700/700 [==============================] - 1s 2ms/step - loss: 1.1969 - accuracy: 0.5729 - val_loss: 1.1784 - val_accuracy: 0.5767\n",
            "Epoch 6/50\n",
            "700/700 [==============================] - 1s 2ms/step - loss: 1.1835 - accuracy: 0.5700 - val_loss: 1.1655 - val_accuracy: 0.5733\n",
            "Epoch 7/50\n",
            "700/700 [==============================] - 1s 2ms/step - loss: 1.0988 - accuracy: 0.6214 - val_loss: 1.1041 - val_accuracy: 0.6000\n",
            "Epoch 8/50\n",
            "700/700 [==============================] - 2s 2ms/step - loss: 1.0881 - accuracy: 0.5929 - val_loss: 1.1171 - val_accuracy: 0.5800\n",
            "Epoch 9/50\n",
            "700/700 [==============================] - 1s 2ms/step - loss: 1.0273 - accuracy: 0.6171 - val_loss: 1.0961 - val_accuracy: 0.5867\n",
            "Epoch 10/50\n",
            "700/700 [==============================] - 1s 2ms/step - loss: 1.0021 - accuracy: 0.6200 - val_loss: 1.0881 - val_accuracy: 0.6067\n",
            "Epoch 11/50\n",
            "700/700 [==============================] - 1s 2ms/step - loss: 0.9940 - accuracy: 0.6386 - val_loss: 1.0681 - val_accuracy: 0.5967\n",
            "Epoch 12/50\n",
            "700/700 [==============================] - 1s 2ms/step - loss: 0.9750 - accuracy: 0.6629 - val_loss: 1.0527 - val_accuracy: 0.5900\n",
            "Epoch 13/50\n",
            "700/700 [==============================] - 2s 2ms/step - loss: 0.9483 - accuracy: 0.6643 - val_loss: 1.0662 - val_accuracy: 0.6067\n",
            "Epoch 14/50\n",
            "700/700 [==============================] - 1s 2ms/step - loss: 0.9014 - accuracy: 0.6800 - val_loss: 1.0413 - val_accuracy: 0.6033\n",
            "Epoch 15/50\n",
            "700/700 [==============================] - 1s 2ms/step - loss: 0.8921 - accuracy: 0.6629 - val_loss: 1.0286 - val_accuracy: 0.6133\n",
            "Epoch 16/50\n",
            "700/700 [==============================] - 1s 2ms/step - loss: 0.8636 - accuracy: 0.6700 - val_loss: 1.0255 - val_accuracy: 0.6067\n",
            "Epoch 17/50\n",
            "700/700 [==============================] - 1s 2ms/step - loss: 0.8920 - accuracy: 0.6643 - val_loss: 1.0452 - val_accuracy: 0.6167\n",
            "Epoch 18/50\n",
            "700/700 [==============================] - 1s 2ms/step - loss: 0.8604 - accuracy: 0.6814 - val_loss: 1.0379 - val_accuracy: 0.5967\n",
            "Epoch 19/50\n",
            "700/700 [==============================] - 1s 2ms/step - loss: 0.8587 - accuracy: 0.6857 - val_loss: 1.0281 - val_accuracy: 0.6233\n",
            "Epoch 20/50\n",
            "700/700 [==============================] - 1s 2ms/step - loss: 0.8088 - accuracy: 0.6943 - val_loss: 1.0331 - val_accuracy: 0.6200\n",
            "Epoch 21/50\n",
            "700/700 [==============================] - 1s 2ms/step - loss: 0.8314 - accuracy: 0.6871 - val_loss: 1.0260 - val_accuracy: 0.6133\n",
            "Epoch 22/50\n",
            "700/700 [==============================] - 1s 2ms/step - loss: 0.7948 - accuracy: 0.7071 - val_loss: 1.0177 - val_accuracy: 0.6133\n",
            "Epoch 23/50\n",
            "700/700 [==============================] - 1s 2ms/step - loss: 0.8210 - accuracy: 0.6857 - val_loss: 1.0505 - val_accuracy: 0.6133\n",
            "Epoch 24/50\n",
            "700/700 [==============================] - 1s 2ms/step - loss: 0.8117 - accuracy: 0.6986 - val_loss: 1.0509 - val_accuracy: 0.6133\n",
            "Epoch 25/50\n",
            "700/700 [==============================] - 1s 2ms/step - loss: 0.8194 - accuracy: 0.6957 - val_loss: 1.0185 - val_accuracy: 0.6267\n",
            "Epoch 26/50\n",
            "700/700 [==============================] - 1s 2ms/step - loss: 0.8161 - accuracy: 0.6800 - val_loss: 1.0175 - val_accuracy: 0.6333\n",
            "Epoch 27/50\n",
            "700/700 [==============================] - 1s 2ms/step - loss: 0.8278 - accuracy: 0.6771 - val_loss: 1.0484 - val_accuracy: 0.6133\n",
            "Epoch 28/50\n",
            "700/700 [==============================] - 1s 2ms/step - loss: 0.7791 - accuracy: 0.7143 - val_loss: 1.0285 - val_accuracy: 0.6333\n",
            "Epoch 29/50\n",
            "700/700 [==============================] - 1s 2ms/step - loss: 0.7790 - accuracy: 0.7100 - val_loss: 1.0317 - val_accuracy: 0.6367\n",
            "Epoch 30/50\n",
            "700/700 [==============================] - 1s 2ms/step - loss: 0.7572 - accuracy: 0.7171 - val_loss: 1.0679 - val_accuracy: 0.6267\n",
            "Epoch 31/50\n",
            "700/700 [==============================] - 1s 2ms/step - loss: 0.7342 - accuracy: 0.7343 - val_loss: 1.0418 - val_accuracy: 0.6300\n",
            "Epoch 32/50\n",
            "700/700 [==============================] - 1s 2ms/step - loss: 0.7725 - accuracy: 0.7229 - val_loss: 1.0608 - val_accuracy: 0.6200\n",
            "Epoch 33/50\n",
            "700/700 [==============================] - 1s 2ms/step - loss: 0.7414 - accuracy: 0.7229 - val_loss: 1.0464 - val_accuracy: 0.6467\n",
            "Epoch 34/50\n",
            "700/700 [==============================] - 1s 2ms/step - loss: 0.7651 - accuracy: 0.7157 - val_loss: 1.0445 - val_accuracy: 0.6367\n",
            "Epoch 35/50\n",
            "700/700 [==============================] - 1s 2ms/step - loss: 0.7653 - accuracy: 0.7129 - val_loss: 1.0556 - val_accuracy: 0.6400\n",
            "Epoch 36/50\n",
            "700/700 [==============================] - 1s 2ms/step - loss: 0.7271 - accuracy: 0.7214 - val_loss: 1.0667 - val_accuracy: 0.6500\n",
            "Epoch 37/50\n",
            "700/700 [==============================] - 1s 2ms/step - loss: 0.7564 - accuracy: 0.7057 - val_loss: 1.0925 - val_accuracy: 0.6367\n",
            "Epoch 38/50\n",
            "700/700 [==============================] - 1s 2ms/step - loss: 0.7400 - accuracy: 0.7171 - val_loss: 1.1113 - val_accuracy: 0.6333\n",
            "Epoch 39/50\n",
            "700/700 [==============================] - 1s 2ms/step - loss: 0.7091 - accuracy: 0.7314 - val_loss: 1.0660 - val_accuracy: 0.6567\n",
            "Epoch 40/50\n",
            "700/700 [==============================] - 1s 2ms/step - loss: 0.7149 - accuracy: 0.7157 - val_loss: 1.0859 - val_accuracy: 0.6500\n",
            "Epoch 41/50\n",
            "700/700 [==============================] - 1s 2ms/step - loss: 0.7439 - accuracy: 0.7157 - val_loss: 1.0985 - val_accuracy: 0.6267\n",
            "Epoch 42/50\n",
            "700/700 [==============================] - 1s 2ms/step - loss: 0.6376 - accuracy: 0.7471 - val_loss: 1.1085 - val_accuracy: 0.6167\n",
            "Epoch 43/50\n",
            "700/700 [==============================] - 1s 2ms/step - loss: 0.6903 - accuracy: 0.7443 - val_loss: 1.1114 - val_accuracy: 0.6333\n",
            "Epoch 44/50\n",
            "700/700 [==============================] - 1s 2ms/step - loss: 0.6765 - accuracy: 0.7457 - val_loss: 1.1360 - val_accuracy: 0.6167\n",
            "Epoch 45/50\n",
            "700/700 [==============================] - 1s 2ms/step - loss: 0.6525 - accuracy: 0.7514 - val_loss: 1.1794 - val_accuracy: 0.6400\n",
            "Epoch 46/50\n",
            "700/700 [==============================] - 1s 2ms/step - loss: 0.7064 - accuracy: 0.7386 - val_loss: 1.1365 - val_accuracy: 0.6567\n",
            "Epoch 47/50\n",
            "700/700 [==============================] - 1s 2ms/step - loss: 0.6496 - accuracy: 0.7614 - val_loss: 1.1473 - val_accuracy: 0.6567\n",
            "Epoch 48/50\n",
            "700/700 [==============================] - 1s 2ms/step - loss: 0.6894 - accuracy: 0.7300 - val_loss: 1.1756 - val_accuracy: 0.6367\n",
            "Epoch 49/50\n",
            "700/700 [==============================] - 1s 2ms/step - loss: 0.7021 - accuracy: 0.7129 - val_loss: 1.1410 - val_accuracy: 0.6467\n",
            "Epoch 50/50\n",
            "700/700 [==============================] - 1s 2ms/step - loss: 0.6396 - accuracy: 0.7757 - val_loss: 1.1628 - val_accuracy: 0.6367\n"
          ]
        }
      ]
    },
    {
      "cell_type": "markdown",
      "metadata": {
        "id": "0TwpX86CZD4A"
      },
      "source": [
        "## Question 1 Part B"
      ]
    },
    {
      "cell_type": "code",
      "metadata": {
        "colab": {
          "base_uri": "https://localhost:8080/",
          "height": 295
        },
        "id": "WzhjOdH9ju-X",
        "outputId": "400c72f3-9a59-46a4-c826-420ee63268bf"
      },
      "source": [
        "plot_accuracy(history)\n"
      ],
      "execution_count": 12,
      "outputs": [
        {
          "output_type": "display_data",
          "data": {
            "image/png": "[encoded data removed]",
            "text/plain": [
              "<Figure size 432x288 with 1 Axes>"
            ]
          },
          "metadata": {
            "needs_background": "light"
          }
        }
      ]
    },
    {
      "cell_type": "markdown",
      "metadata": {
        "id": "slfNhJPeUMTr"
      },
      "source": [
        "Comment:  \n",
        "\n",
        "Model achieves approximate 70% accuracy on training data, approximate 65% on test data"
      ]
    },
    {
      "cell_type": "markdown",
      "metadata": {
        "id": "FHgdZBdnZJKE"
      },
      "source": [
        "## Question 1 Part C"
      ]
    },
    {
      "cell_type": "code",
      "metadata": {
        "colab": {
          "base_uri": "https://localhost:8080/",
          "height": 295
        },
        "id": "_TnQtBC5ju-X",
        "outputId": "37ecf3eb-a9e7-4422-cf02-769f8518b98e"
      },
      "source": [
        "plot_loss(history)\n"
      ],
      "execution_count": 13,
      "outputs": [
        {
          "output_type": "display_data",
          "data": {
            "image/png": "[encoded data removed]",
            "text/plain": [
              "<Figure size 432x288 with 1 Axes>"
            ]
          },
          "metadata": {
            "needs_background": "light"
          }
        }
      ]
    },
    {
      "cell_type": "markdown",
      "metadata": {
        "id": "LtHZilbYVNA0"
      },
      "source": [
        "Comment:\n",
        " \n",
        "Test Loss begins to converge approximately in epoch 10."
      ]
    },
    {
      "cell_type": "markdown",
      "metadata": {
        "id": "Fo6mzSSzju-Y"
      },
      "source": [
        "# <a name=\"Q2\">Question 2</a>"
      ]
    },
    {
      "cell_type": "code",
      "metadata": {
        "id": "9tC4kiH4ju-Y"
      },
      "source": [
        "# Using Kfold library from sklearn\n",
        "from sklearn.model_selection import KFold"
      ],
      "execution_count": 14,
      "outputs": []
    },
    {
      "cell_type": "code",
      "metadata": {
        "id": "2KsABDtdMP9w"
      },
      "source": [
        "# Callback to calculate time for each epoch\n",
        "class timecallback(tf.keras.callbacks.Callback):\n",
        "    def __init__(self):\n",
        "        # use this value as reference to calculate cummulative time taken\n",
        "        self.times = []\n",
        "        \n",
        "    def on_epoch_begin(self,epoch,logs = {}):\n",
        "        self.timetaken = time.time()\n",
        "        \n",
        "    def on_epoch_end(self,epoch,logs = {}):\n",
        "        self.times.append(time.time() - self.timetaken)\n",
        "        \n",
        "    "
      ],
      "execution_count": 15,
      "outputs": []
    },
    {
      "cell_type": "markdown",
      "metadata": {
        "id": "Dbv56itVaK-y"
      },
      "source": [
        "## Question 2 Part A"
      ]
    },
    {
      "cell_type": "code",
      "metadata": {
        "colab": {
          "base_uri": "https://localhost:8080/",
          "height": 1000
        },
        "id": "9mxTJ8D7ju-Z",
        "outputId": "420907c7-e3e9-4a28-f591-cef6b3d2fb03"
      },
      "source": [
        "# 3 Fold with shuffle\n",
        "k_fold = KFold(n_splits=3, shuffle=True)\n",
        "batch_sizes=[1,4,8,16,32,64]\n",
        "\n",
        "# Store median times of training epochs for each batch\n",
        "median_times_per_batch=[]\n",
        "\n",
        "\n",
        "# Loop over batch_sizes\n",
        "for i in batch_sizes:\n",
        "    model_history_per_fold=[]\n",
        "    times_per_fold=[]\n",
        "    fold_no=1\n",
        "\n",
        "    for train, test in k_fold.split(X_train,y_train):\n",
        "        model = Sequential([\n",
        "        Dense(16, activation='relu', input_shape=(57,)),\n",
        "        Dropout(0.3),\n",
        "        Dense(units = num_labels, activation='softmax')\n",
        "        ])\n",
        "        model.compile(optimizer='adam',\n",
        "                loss='categorical_crossentropy',\n",
        "                metrics=['accuracy'])\n",
        "        \n",
        "        # Generate a print\n",
        "        print('------------------------------------------------------------------------')\n",
        "        print(f'Training for batch_size {i} fold {fold_no} ...')\n",
        "\n",
        "        timetaken = timecallback()\n",
        "        history = model.fit(\n",
        "        X_train[train],y_train[train],batch_size=i, epochs=50, verbose=0,validation_data=(X_train[test],y_train[test]),callbacks = [timetaken]\n",
        "        )\n",
        "        \n",
        "        # Generate generalization metrics\n",
        "        #scores = model.evaluate(X_train[test], y_train[test], verbose=0)\n",
        "        #print(f'Score for batch_size {i} fold {fold_no}: {model.metrics_names[0]} of {scores[0]}; {model.metrics_names[1]} of {scores[1]*100}%')\n",
        "        model_history_per_fold.append(history)\n",
        "        times_per_fold.append(timetaken)\n",
        "        fold_no = fold_no + 1\n",
        "        keras.backend.clear_session()\n",
        "\n",
        "    # Get mean validation accuracy in a numpy array\n",
        "    mean_val_accuracy_arr=np.array([model_history_per_fold[0].history['val_accuracy'],\n",
        "                                model_history_per_fold[1].history['val_accuracy'],\n",
        "                                model_history_per_fold[2].history['val_accuracy']])\n",
        "    mean_val_accuracy=np.mean(mean_val_accuracy_arr, axis=0)\n",
        "\n",
        "    # Get median time for epochs in a numpy array\n",
        "    median_time=np.median(np.array([times_per_fold[0].times,\n",
        "                                    times_per_fold[1].times,\n",
        "                                    times_per_fold[2].times]))\n",
        "    \n",
        "    median_times_per_batch.append(median_time)\n",
        "    print('')\n",
        "    print('Mean Accuracy for batch_size %d is %.2f%% (+/- %.2f%%)'%(i,mean_val_accuracy[-1]*100,np.std(mean_val_accuracy_arr, axis=0)[-1]*100))\n",
        "    plt.plot(mean_val_accuracy,label=i)\n",
        "\n",
        "    \n",
        "plt.title('Cross Validation Accuracy of 3-Fold on Validating Dataset')\n",
        "plt.ylabel('Mean_Accuracy')\n",
        "plt.xlabel('Training epochs')\n",
        "plt.legend(batch_sizes, loc='center left', bbox_to_anchor=(1, 0.5)) \n"
      ],
      "execution_count": 16,
      "outputs": [
        {
          "output_type": "stream",
          "name": "stdout",
          "text": [
            "------------------------------------------------------------------------\n",
            "Training for batch_size 1 fold 1 ...\n",
            "------------------------------------------------------------------------\n",
            "Training for batch_size 1 fold 2 ...\n",
            "------------------------------------------------------------------------\n",
            "Training for batch_size 1 fold 3 ...\n",
            "\n",
            "Mean Accuracy for batch_size 1 is 67.14% (+/- 0.49%)\n",
            "------------------------------------------------------------------------\n",
            "Training for batch_size 4 fold 1 ...\n",
            "------------------------------------------------------------------------\n",
            "Training for batch_size 4 fold 2 ...\n",
            "------------------------------------------------------------------------\n",
            "Training for batch_size 4 fold 3 ...\n",
            "\n",
            "Mean Accuracy for batch_size 4 is 65.14% (+/- 2.06%)\n",
            "------------------------------------------------------------------------\n",
            "Training for batch_size 8 fold 1 ...\n",
            "------------------------------------------------------------------------\n",
            "Training for batch_size 8 fold 2 ...\n",
            "------------------------------------------------------------------------\n",
            "Training for batch_size 8 fold 3 ...\n",
            "\n",
            "Mean Accuracy for batch_size 8 is 65.57% (+/- 2.10%)\n",
            "------------------------------------------------------------------------\n",
            "Training for batch_size 16 fold 1 ...\n",
            "------------------------------------------------------------------------\n",
            "Training for batch_size 16 fold 2 ...\n",
            "------------------------------------------------------------------------\n",
            "Training for batch_size 16 fold 3 ...\n",
            "\n",
            "Mean Accuracy for batch_size 16 is 60.72% (+/- 2.95%)\n",
            "------------------------------------------------------------------------\n",
            "Training for batch_size 32 fold 1 ...\n",
            "------------------------------------------------------------------------\n",
            "Training for batch_size 32 fold 2 ...\n",
            "------------------------------------------------------------------------\n",
            "Training for batch_size 32 fold 3 ...\n",
            "\n",
            "Mean Accuracy for batch_size 32 is 61.00% (+/- 1.57%)\n",
            "------------------------------------------------------------------------\n",
            "Training for batch_size 64 fold 1 ...\n",
            "------------------------------------------------------------------------\n",
            "Training for batch_size 64 fold 2 ...\n",
            "------------------------------------------------------------------------\n",
            "Training for batch_size 64 fold 3 ...\n",
            "\n",
            "Mean Accuracy for batch_size 64 is 58.14% (+/- 2.90%)\n"
          ]
        },
        {
          "output_type": "execute_result",
          "data": {
            "text/plain": [
              "<matplotlib.legend.Legend at 0x7f966f467c50>"
            ]
          },
          "metadata": {},
          "execution_count": 16
        },
        {
          "output_type": "display_data",
          "data": {
            "image/png": "[encoded data removed]",
            "text/plain": [
              "<Figure size 432x288 with 1 Axes>"
            ]
          },
          "metadata": {
            "needs_background": "light"
          }
        }
      ]
    },
    {
      "cell_type": "markdown",
      "metadata": {
        "id": "ycovneh4Z27j"
      },
      "source": [
        "## Question 2 Part B"
      ]
    },
    {
      "cell_type": "code",
      "metadata": {
        "colab": {
          "base_uri": "https://localhost:8080/",
          "height": 235
        },
        "id": "Y5TIoTw2MFgt",
        "outputId": "2809c615-3002-4e4d-d9db-59f0dd72e170"
      },
      "source": [
        "median_time_df=pd.DataFrame(list(zip(batch_sizes,median_times_per_batch)),columns=['Batch_Size','Median_Time_Per_Epoch'])\n",
        "median_time_df"
      ],
      "execution_count": 17,
      "outputs": [
        {
          "output_type": "execute_result",
          "data": {
            "text/html": [
              "<div>\n",
              "<style scoped>\n",
              "    .dataframe tbody tr th:only-of-type {\n",
              "        vertical-align: middle;\n",
              "    }\n",
              "\n",
              "    .dataframe tbody tr th {\n",
              "        vertical-align: top;\n",
              "    }\n",
              "\n",
              "    .dataframe thead th {\n",
              "        text-align: right;\n",
              "    }\n",
              "</style>\n",
              "<table border=\"1\" class=\"dataframe\">\n",
              "  <thead>\n",
              "    <tr style=\"text-align: right;\">\n",
              "      <th></th>\n",
              "      <th>Batch_Size</th>\n",
              "      <th>Median_Time_Per_Epoch</th>\n",
              "    </tr>\n",
              "  </thead>\n",
              "  <tbody>\n",
              "    <tr>\n",
              "      <th>0</th>\n",
              "      <td>1</td>\n",
              "      <td>0.781269</td>\n",
              "    </tr>\n",
              "    <tr>\n",
              "      <th>1</th>\n",
              "      <td>4</td>\n",
              "      <td>0.198111</td>\n",
              "    </tr>\n",
              "    <tr>\n",
              "      <th>2</th>\n",
              "      <td>8</td>\n",
              "      <td>0.137259</td>\n",
              "    </tr>\n",
              "    <tr>\n",
              "      <th>3</th>\n",
              "      <td>16</td>\n",
              "      <td>0.068838</td>\n",
              "    </tr>\n",
              "    <tr>\n",
              "      <th>4</th>\n",
              "      <td>32</td>\n",
              "      <td>0.052799</td>\n",
              "    </tr>\n",
              "    <tr>\n",
              "      <th>5</th>\n",
              "      <td>64</td>\n",
              "      <td>0.044979</td>\n",
              "    </tr>\n",
              "  </tbody>\n",
              "</table>\n",
              "</div>"
            ],
            "text/plain": [
              "   Batch_Size  Median_Time_Per_Epoch\n",
              "0           1               0.781269\n",
              "1           4               0.198111\n",
              "2           8               0.137259\n",
              "3          16               0.068838\n",
              "4          32               0.052799\n",
              "5          64               0.044979"
            ]
          },
          "metadata": {},
          "execution_count": 17
        }
      ]
    },
    {
      "cell_type": "markdown",
      "metadata": {
        "id": "nJkvCtYKZ-Os"
      },
      "source": [
        "## Question 2 Part C"
      ]
    },
    {
      "cell_type": "markdown",
      "metadata": {
        "id": "Hs1yA4Pxab_7"
      },
      "source": [
        "Comment: \n",
        "\n",
        "From the cross validation accuracy graph above, we can see that batch size 1,4,8 share similar mean accuracy which is around 65% . However, median training time taken for one epoch for batch size 1 is 0.76s, which is approximately 4 times of batch size 4. Median training time for batch size 4 and 8 does not differ much.\n",
        "Hence, optimal batch size will be 8 for fixed 50 epochs."
      ]
    },
    {
      "cell_type": "markdown",
      "metadata": {
        "id": "efTWsceuaXtJ"
      },
      "source": [
        "## Question 2 Part D"
      ]
    },
    {
      "cell_type": "markdown",
      "metadata": {
        "id": "ndUhWzNCeeK5"
      },
      "source": [
        "Comment: \n",
        "\n",
        "Stochastic gradient descent requires that the model make a prediction and have the weights updated for each training example, while for mini-batch gradient descent, weights are updated in batches. \n",
        "\n",
        "This makes stochastic gradient descent has a dramatically slower training process as compared to mini-batch gradient descent because of the time is taken to predict and update weights for each training example. Mini-batch gradient descent is faster in learning because of the vectorization advantage. \n",
        "\n",
        "Stochastic gradient descent is also too noisy in cost minimization (gradient descent in the wrong direction). It won't ever converge to reach the minimum cost. Small batch sizes results generally in rapid learning but a volatile learning process with higher variance in the classification accuracy"
      ]
    },
    {
      "cell_type": "markdown",
      "metadata": {
        "id": "uP8uA8AYaZeD"
      },
      "source": [
        "## Question 2 Part E"
      ]
    },
    {
      "cell_type": "code",
      "metadata": {
        "colab": {
          "base_uri": "https://localhost:8080/"
        },
        "id": "RJ6HT-QHk0oQ",
        "outputId": "fd5df5fb-e720-47e4-f384-2560f54a0a96"
      },
      "source": [
        "\n",
        "model = Sequential([\n",
        "    Dense(16, activation='relu', input_shape=(57,)),\n",
        "    Dropout(0.3),\n",
        "    Dense(units = num_labels, activation='softmax')\n",
        "])\n",
        "\n",
        "model.compile(optimizer='adam',\n",
        "              loss='categorical_crossentropy',\n",
        "              metrics=['accuracy'])\n",
        "\n",
        "history = model.fit(\n",
        "    X_train, y_train,batch_size=8, epochs=50, verbose=1,validation_data=(X_test, y_test)\n",
        ")"
      ],
      "execution_count": 18,
      "outputs": [
        {
          "output_type": "stream",
          "name": "stdout",
          "text": [
            "Epoch 1/50\n",
            "88/88 [==============================] - 1s 4ms/step - loss: 2.5262 - accuracy: 0.1571 - val_loss: 2.1152 - val_accuracy: 0.2467\n",
            "Epoch 2/50\n",
            "88/88 [==============================] - 0s 3ms/step - loss: 2.0954 - accuracy: 0.2800 - val_loss: 1.8720 - val_accuracy: 0.3467\n",
            "Epoch 3/50\n",
            "88/88 [==============================] - 0s 2ms/step - loss: 1.9294 - accuracy: 0.3414 - val_loss: 1.7160 - val_accuracy: 0.3867\n",
            "Epoch 4/50\n",
            "88/88 [==============================] - 0s 2ms/step - loss: 1.7653 - accuracy: 0.3686 - val_loss: 1.6075 - val_accuracy: 0.4300\n",
            "Epoch 5/50\n",
            "88/88 [==============================] - 0s 3ms/step - loss: 1.6082 - accuracy: 0.4443 - val_loss: 1.5227 - val_accuracy: 0.4467\n",
            "Epoch 6/50\n",
            "88/88 [==============================] - 0s 3ms/step - loss: 1.5375 - accuracy: 0.4271 - val_loss: 1.4593 - val_accuracy: 0.4900\n",
            "Epoch 7/50\n",
            "88/88 [==============================] - 0s 3ms/step - loss: 1.4803 - accuracy: 0.4529 - val_loss: 1.4103 - val_accuracy: 0.4967\n",
            "Epoch 8/50\n",
            "88/88 [==============================] - 0s 2ms/step - loss: 1.4204 - accuracy: 0.4786 - val_loss: 1.3747 - val_accuracy: 0.5067\n",
            "Epoch 9/50\n",
            "88/88 [==============================] - 0s 3ms/step - loss: 1.3857 - accuracy: 0.4914 - val_loss: 1.3340 - val_accuracy: 0.5200\n",
            "Epoch 10/50\n",
            "88/88 [==============================] - 0s 2ms/step - loss: 1.3159 - accuracy: 0.5414 - val_loss: 1.2987 - val_accuracy: 0.5333\n",
            "Epoch 11/50\n",
            "88/88 [==============================] - 0s 3ms/step - loss: 1.2901 - accuracy: 0.5371 - val_loss: 1.2765 - val_accuracy: 0.5600\n",
            "Epoch 12/50\n",
            "88/88 [==============================] - 0s 3ms/step - loss: 1.2936 - accuracy: 0.5414 - val_loss: 1.2501 - val_accuracy: 0.5467\n",
            "Epoch 13/50\n",
            "88/88 [==============================] - 0s 3ms/step - loss: 1.2348 - accuracy: 0.5429 - val_loss: 1.2347 - val_accuracy: 0.5533\n",
            "Epoch 14/50\n",
            "88/88 [==============================] - 0s 3ms/step - loss: 1.2092 - accuracy: 0.5729 - val_loss: 1.2121 - val_accuracy: 0.5600\n",
            "Epoch 15/50\n",
            "88/88 [==============================] - 0s 3ms/step - loss: 1.1605 - accuracy: 0.5771 - val_loss: 1.1914 - val_accuracy: 0.5600\n",
            "Epoch 16/50\n",
            "88/88 [==============================] - 0s 3ms/step - loss: 1.1408 - accuracy: 0.5943 - val_loss: 1.1738 - val_accuracy: 0.5700\n",
            "Epoch 17/50\n",
            "88/88 [==============================] - 0s 3ms/step - loss: 1.1769 - accuracy: 0.5857 - val_loss: 1.1647 - val_accuracy: 0.5733\n",
            "Epoch 18/50\n",
            "88/88 [==============================] - 0s 3ms/step - loss: 1.1409 - accuracy: 0.5871 - val_loss: 1.1517 - val_accuracy: 0.5700\n",
            "Epoch 19/50\n",
            "88/88 [==============================] - 0s 3ms/step - loss: 1.0721 - accuracy: 0.6214 - val_loss: 1.1314 - val_accuracy: 0.5733\n",
            "Epoch 20/50\n",
            "88/88 [==============================] - 0s 3ms/step - loss: 1.0919 - accuracy: 0.6129 - val_loss: 1.1168 - val_accuracy: 0.5833\n",
            "Epoch 21/50\n",
            "88/88 [==============================] - 0s 3ms/step - loss: 1.0643 - accuracy: 0.6029 - val_loss: 1.1080 - val_accuracy: 0.5933\n",
            "Epoch 22/50\n",
            "88/88 [==============================] - 0s 3ms/step - loss: 1.0760 - accuracy: 0.6000 - val_loss: 1.1021 - val_accuracy: 0.5800\n",
            "Epoch 23/50\n",
            "88/88 [==============================] - 0s 3ms/step - loss: 1.0509 - accuracy: 0.6343 - val_loss: 1.0909 - val_accuracy: 0.6000\n",
            "Epoch 24/50\n",
            "88/88 [==============================] - 0s 3ms/step - loss: 1.0250 - accuracy: 0.6329 - val_loss: 1.0861 - val_accuracy: 0.6167\n",
            "Epoch 25/50\n",
            "88/88 [==============================] - 0s 3ms/step - loss: 1.0472 - accuracy: 0.6314 - val_loss: 1.0767 - val_accuracy: 0.6100\n",
            "Epoch 26/50\n",
            "88/88 [==============================] - 0s 2ms/step - loss: 0.9851 - accuracy: 0.6529 - val_loss: 1.0718 - val_accuracy: 0.6100\n",
            "Epoch 27/50\n",
            "88/88 [==============================] - 0s 2ms/step - loss: 1.0559 - accuracy: 0.6143 - val_loss: 1.0729 - val_accuracy: 0.5967\n",
            "Epoch 28/50\n",
            "88/88 [==============================] - 0s 3ms/step - loss: 0.9713 - accuracy: 0.6500 - val_loss: 1.0590 - val_accuracy: 0.6067\n",
            "Epoch 29/50\n",
            "88/88 [==============================] - 0s 2ms/step - loss: 0.9892 - accuracy: 0.6357 - val_loss: 1.0488 - val_accuracy: 0.6200\n",
            "Epoch 30/50\n",
            "88/88 [==============================] - 0s 2ms/step - loss: 0.9788 - accuracy: 0.6414 - val_loss: 1.0474 - val_accuracy: 0.6133\n",
            "Epoch 31/50\n",
            "88/88 [==============================] - 0s 3ms/step - loss: 0.9642 - accuracy: 0.6571 - val_loss: 1.0402 - val_accuracy: 0.6067\n",
            "Epoch 32/50\n",
            "88/88 [==============================] - 0s 2ms/step - loss: 0.9958 - accuracy: 0.6329 - val_loss: 1.0284 - val_accuracy: 0.6133\n",
            "Epoch 33/50\n",
            "88/88 [==============================] - 0s 2ms/step - loss: 0.9755 - accuracy: 0.6471 - val_loss: 1.0220 - val_accuracy: 0.6200\n",
            "Epoch 34/50\n",
            "88/88 [==============================] - 0s 2ms/step - loss: 0.9363 - accuracy: 0.6657 - val_loss: 1.0211 - val_accuracy: 0.6133\n",
            "Epoch 35/50\n",
            "88/88 [==============================] - 0s 2ms/step - loss: 0.9088 - accuracy: 0.6743 - val_loss: 1.0075 - val_accuracy: 0.6233\n",
            "Epoch 36/50\n",
            "88/88 [==============================] - 0s 2ms/step - loss: 0.9201 - accuracy: 0.6729 - val_loss: 0.9969 - val_accuracy: 0.6200\n",
            "Epoch 37/50\n",
            "88/88 [==============================] - 0s 3ms/step - loss: 0.9302 - accuracy: 0.6771 - val_loss: 1.0013 - val_accuracy: 0.6133\n",
            "Epoch 38/50\n",
            "88/88 [==============================] - 0s 3ms/step - loss: 0.8602 - accuracy: 0.6843 - val_loss: 1.0026 - val_accuracy: 0.6100\n",
            "Epoch 39/50\n",
            "88/88 [==============================] - 0s 3ms/step - loss: 0.9540 - accuracy: 0.6457 - val_loss: 0.9929 - val_accuracy: 0.6167\n",
            "Epoch 40/50\n",
            "88/88 [==============================] - 0s 3ms/step - loss: 0.9005 - accuracy: 0.6543 - val_loss: 0.9908 - val_accuracy: 0.6300\n",
            "Epoch 41/50\n",
            "88/88 [==============================] - 0s 2ms/step - loss: 0.9299 - accuracy: 0.6614 - val_loss: 0.9961 - val_accuracy: 0.6267\n",
            "Epoch 42/50\n",
            "88/88 [==============================] - 0s 3ms/step - loss: 0.8753 - accuracy: 0.6786 - val_loss: 0.9952 - val_accuracy: 0.6267\n",
            "Epoch 43/50\n",
            "88/88 [==============================] - 0s 3ms/step - loss: 0.9014 - accuracy: 0.6471 - val_loss: 0.9877 - val_accuracy: 0.6400\n",
            "Epoch 44/50\n",
            "88/88 [==============================] - 0s 3ms/step - loss: 0.8909 - accuracy: 0.6771 - val_loss: 0.9932 - val_accuracy: 0.6333\n",
            "Epoch 45/50\n",
            "88/88 [==============================] - 0s 2ms/step - loss: 0.9108 - accuracy: 0.6700 - val_loss: 0.9925 - val_accuracy: 0.6300\n",
            "Epoch 46/50\n",
            "88/88 [==============================] - 0s 3ms/step - loss: 0.8767 - accuracy: 0.6586 - val_loss: 0.9872 - val_accuracy: 0.6233\n",
            "Epoch 47/50\n",
            "88/88 [==============================] - 0s 2ms/step - loss: 0.8733 - accuracy: 0.6657 - val_loss: 0.9885 - val_accuracy: 0.6267\n",
            "Epoch 48/50\n",
            "88/88 [==============================] - 0s 2ms/step - loss: 0.8822 - accuracy: 0.6529 - val_loss: 0.9906 - val_accuracy: 0.6300\n",
            "Epoch 49/50\n",
            "88/88 [==============================] - 0s 3ms/step - loss: 0.8759 - accuracy: 0.6771 - val_loss: 0.9810 - val_accuracy: 0.6433\n",
            "Epoch 50/50\n",
            "88/88 [==============================] - 0s 3ms/step - loss: 0.8451 - accuracy: 0.6814 - val_loss: 0.9799 - val_accuracy: 0.6367\n"
          ]
        }
      ]
    },
    {
      "cell_type": "code",
      "metadata": {
        "colab": {
          "base_uri": "https://localhost:8080/",
          "height": 295
        },
        "id": "yNWFgAGUk0bB",
        "outputId": "c91cb922-031f-469c-837d-8ef0c5a24f76"
      },
      "source": [
        "plot_accuracy(history)\n"
      ],
      "execution_count": 19,
      "outputs": [
        {
          "output_type": "display_data",
          "data": {
            "image/png": "[encoded data removed]",
            "text/plain": [
              "<Figure size 432x288 with 1 Axes>"
            ]
          },
          "metadata": {
            "needs_background": "light"
          }
        }
      ]
    },
    {
      "cell_type": "code",
      "metadata": {
        "colab": {
          "base_uri": "https://localhost:8080/",
          "height": 295
        },
        "id": "DIUtr5KrlBWo",
        "outputId": "a00e5b82-a7ea-42a6-9ff5-02fc21843d8b"
      },
      "source": [
        "plot_loss(history)\n"
      ],
      "execution_count": 20,
      "outputs": [
        {
          "output_type": "display_data",
          "data": {
            "image/png": "[encoded data removed]",
            "text/plain": [
              "<Figure size 432x288 with 1 Axes>"
            ]
          },
          "metadata": {
            "needs_background": "light"
          }
        }
      ]
    },
    {
      "cell_type": "markdown",
      "metadata": {
        "id": "HKFDyz4GaaWw"
      },
      "source": [
        "# <a name=\"Q3\">Question 3</a>"
      ]
    },
    {
      "cell_type": "markdown",
      "metadata": {
        "id": "ImE46HNVnJLZ"
      },
      "source": [
        "## Question 3 Part A"
      ]
    },
    {
      "cell_type": "code",
      "metadata": {
        "colab": {
          "base_uri": "https://localhost:8080/",
          "height": 856
        },
        "id": "wuA7SALKaaJv",
        "outputId": "d1e875a0-124f-4244-84a0-661873d96a83"
      },
      "source": [
        "k_fold = KFold(n_splits=3, shuffle=True)\n",
        "neuron_number=[8,16,32,64]\n",
        "keras.backend.clear_session()\n",
        "for i in neuron_number:\n",
        "    model_history_per_fold=[]\n",
        "    fold_no=1\n",
        "\n",
        "    for train, test in k_fold.split(X_train,y_train):\n",
        "        model = Sequential([\n",
        "        Dense(i, activation='relu', input_shape=(57,)),\n",
        "        Dropout(0.3),\n",
        "        Dense(units = num_labels, activation='softmax')\n",
        "        ])\n",
        "\n",
        "        model.compile(optimizer='adam',\n",
        "                loss='categorical_crossentropy',\n",
        "                \n",
        "                metrics=['accuracy'])\n",
        "                \n",
        "        print('------------------------------------------------------------------------')\n",
        "        print(f'Training for number of neuron {i} fold {fold_no} ...')\n",
        "\n",
        "        history = model.fit(\n",
        "        X_train[train],y_train[train],batch_size=8, epochs=50, verbose=0,validation_data=(X_train[test],y_train[test])\n",
        "        )\n",
        "        keras.backend.clear_session()\n",
        "\n",
        "        model_history_per_fold.append(history)\n",
        "        fold_no = fold_no + 1\n",
        "\n",
        "\n",
        "    mean_val_accuracy_arr=np.array([model_history_per_fold[0].history['val_accuracy'],\n",
        "                                    model_history_per_fold[1].history['val_accuracy'],\n",
        "                                    model_history_per_fold[2].history['val_accuracy']])\n",
        "    mean_val_accuracy=np.mean(mean_val_accuracy_arr, axis=0)\n",
        "\n",
        "    print('')\n",
        "    print('Mean Accuracy for number of neuron %d is %.2f%% (+/- %.2f%%)'%(i,mean_val_accuracy[-1]*100,np.std(mean_val_accuracy_arr, axis=0)[-1]*100))\n",
        "    plt.plot(mean_val_accuracy,label=i)\n",
        "\n",
        "\n",
        "    \n",
        "    \n",
        "\n",
        "plt.title('Accuracy of Different neurons on Validation Dataset')\n",
        "plt.ylabel('Accuracy')\n",
        "plt.xlabel('Training epochs')\n",
        "plt.legend(neuron_number, loc='center left', bbox_to_anchor=(1, 0.5)) \n"
      ],
      "execution_count": 21,
      "outputs": [
        {
          "output_type": "stream",
          "name": "stdout",
          "text": [
            "------------------------------------------------------------------------\n",
            "Training for number of neuron 8 fold 1 ...\n",
            "------------------------------------------------------------------------\n",
            "Training for number of neuron 8 fold 2 ...\n",
            "------------------------------------------------------------------------\n",
            "Training for number of neuron 8 fold 3 ...\n",
            "\n",
            "Mean Accuracy for number of neuron 8 is 59.00% (+/- 2.12%)\n",
            "------------------------------------------------------------------------\n",
            "Training for number of neuron 16 fold 1 ...\n",
            "------------------------------------------------------------------------\n",
            "Training for number of neuron 16 fold 2 ...\n",
            "------------------------------------------------------------------------\n",
            "Training for number of neuron 16 fold 3 ...\n",
            "\n",
            "Mean Accuracy for number of neuron 16 is 64.57% (+/- 0.53%)\n",
            "------------------------------------------------------------------------\n",
            "Training for number of neuron 32 fold 1 ...\n",
            "------------------------------------------------------------------------\n",
            "Training for number of neuron 32 fold 2 ...\n",
            "------------------------------------------------------------------------\n",
            "Training for number of neuron 32 fold 3 ...\n",
            "\n",
            "Mean Accuracy for number of neuron 32 is 66.86% (+/- 4.56%)\n",
            "------------------------------------------------------------------------\n",
            "Training for number of neuron 64 fold 1 ...\n",
            "------------------------------------------------------------------------\n",
            "Training for number of neuron 64 fold 2 ...\n",
            "------------------------------------------------------------------------\n",
            "Training for number of neuron 64 fold 3 ...\n",
            "\n",
            "Mean Accuracy for number of neuron 64 is 71.72% (+/- 2.48%)\n"
          ]
        },
        {
          "output_type": "execute_result",
          "data": {
            "text/plain": [
              "<matplotlib.legend.Legend at 0x7f966d800d10>"
            ]
          },
          "metadata": {},
          "execution_count": 21
        },
        {
          "output_type": "display_data",
          "data": {
            "image/png": "[encoded data removed]",
            "text/plain": [
              "<Figure size 432x288 with 1 Axes>"
            ]
          },
          "metadata": {
            "needs_background": "light"
          }
        }
      ]
    },
    {
      "cell_type": "markdown",
      "metadata": {
        "id": "Voi9Me4TnMUW"
      },
      "source": [
        "## Question 3 Part B"
      ]
    },
    {
      "cell_type": "markdown",
      "metadata": {
        "id": "YALvgmQ2nNy8"
      },
      "source": [
        "Comment: \n",
        "\n",
        "From the graph, 2-layer model with 64 neurons has the highest test accuracy. \n",
        "Hence, optimal number of neurons for the hidden layer will be 64"
      ]
    },
    {
      "cell_type": "markdown",
      "metadata": {
        "id": "Zj27i9mNnYcf"
      },
      "source": [
        "## Question 3 Part C"
      ]
    },
    {
      "cell_type": "code",
      "metadata": {
        "colab": {
          "base_uri": "https://localhost:8080/",
          "height": 1000
        },
        "id": "rXTox2_gd_c-",
        "outputId": "b8d1081d-498e-4b48-d6c5-b5c3a06ab128"
      },
      "source": [
        "\n",
        "optimal_2_layer_model = Sequential([\n",
        "    \n",
        "    Dense(64, activation='relu', input_shape=(57,)),\n",
        "    Dropout(0.3),\n",
        "    Dense(units = num_labels, activation='softmax')\n",
        "])\n",
        "\n",
        "\n",
        "optimal_2_layer_model.compile(optimizer='adam',\n",
        "              loss='categorical_crossentropy',\n",
        "              #loss='mse',\n",
        "              metrics=['accuracy'])\n",
        "\n",
        "optimal_2_layer_history = optimal_2_layer_model.fit(\n",
        "    X_train, y_train,batch_size=8, epochs=50, verbose=1,validation_data=(X_test, y_test)\n",
        ")\n",
        "keras.backend.clear_session()\n",
        "plot_accuracy(optimal_2_layer_history)\n",
        "plot_loss(optimal_2_layer_history)\n"
      ],
      "execution_count": 27,
      "outputs": [
        {
          "output_type": "stream",
          "name": "stdout",
          "text": [
            "Epoch 1/50\n",
            "88/88 [==============================] - 1s 4ms/step - loss: 2.1378 - accuracy: 0.2786 - val_loss: 1.7114 - val_accuracy: 0.3833\n",
            "Epoch 2/50\n",
            "88/88 [==============================] - 0s 2ms/step - loss: 1.5980 - accuracy: 0.4529 - val_loss: 1.4445 - val_accuracy: 0.4733\n",
            "Epoch 3/50\n",
            "88/88 [==============================] - 0s 3ms/step - loss: 1.3608 - accuracy: 0.5200 - val_loss: 1.3207 - val_accuracy: 0.4900\n",
            "Epoch 4/50\n",
            "88/88 [==============================] - 0s 2ms/step - loss: 1.2282 - accuracy: 0.5757 - val_loss: 1.2202 - val_accuracy: 0.5300\n",
            "Epoch 5/50\n",
            "88/88 [==============================] - 0s 2ms/step - loss: 1.1267 - accuracy: 0.6029 - val_loss: 1.1615 - val_accuracy: 0.5533\n",
            "Epoch 6/50\n",
            "88/88 [==============================] - 0s 3ms/step - loss: 1.0151 - accuracy: 0.6571 - val_loss: 1.1203 - val_accuracy: 0.5767\n",
            "Epoch 7/50\n",
            "88/88 [==============================] - 0s 2ms/step - loss: 0.9860 - accuracy: 0.6500 - val_loss: 1.0869 - val_accuracy: 0.6200\n",
            "Epoch 8/50\n",
            "88/88 [==============================] - 0s 3ms/step - loss: 0.9402 - accuracy: 0.6671 - val_loss: 1.0475 - val_accuracy: 0.5833\n",
            "Epoch 9/50\n",
            "88/88 [==============================] - 0s 2ms/step - loss: 0.8538 - accuracy: 0.7043 - val_loss: 1.0242 - val_accuracy: 0.6067\n",
            "Epoch 10/50\n",
            "88/88 [==============================] - 0s 2ms/step - loss: 0.8128 - accuracy: 0.7357 - val_loss: 1.0122 - val_accuracy: 0.6200\n",
            "Epoch 11/50\n",
            "88/88 [==============================] - 0s 2ms/step - loss: 0.7955 - accuracy: 0.7357 - val_loss: 0.9806 - val_accuracy: 0.6333\n",
            "Epoch 12/50\n",
            "88/88 [==============================] - 0s 2ms/step - loss: 0.7277 - accuracy: 0.7671 - val_loss: 0.9540 - val_accuracy: 0.6333\n",
            "Epoch 13/50\n",
            "88/88 [==============================] - 0s 3ms/step - loss: 0.7107 - accuracy: 0.7714 - val_loss: 0.9533 - val_accuracy: 0.6400\n",
            "Epoch 14/50\n",
            "88/88 [==============================] - 0s 2ms/step - loss: 0.6899 - accuracy: 0.7786 - val_loss: 0.9534 - val_accuracy: 0.6400\n",
            "Epoch 15/50\n",
            "88/88 [==============================] - 0s 2ms/step - loss: 0.6921 - accuracy: 0.7829 - val_loss: 0.9320 - val_accuracy: 0.6567\n",
            "Epoch 16/50\n",
            "88/88 [==============================] - 0s 3ms/step - loss: 0.6549 - accuracy: 0.7771 - val_loss: 0.9306 - val_accuracy: 0.6433\n",
            "Epoch 17/50\n",
            "88/88 [==============================] - 0s 2ms/step - loss: 0.6364 - accuracy: 0.7857 - val_loss: 0.9147 - val_accuracy: 0.6633\n",
            "Epoch 18/50\n",
            "88/88 [==============================] - 0s 2ms/step - loss: 0.6091 - accuracy: 0.7843 - val_loss: 0.9181 - val_accuracy: 0.6667\n",
            "Epoch 19/50\n",
            "88/88 [==============================] - 0s 2ms/step - loss: 0.6007 - accuracy: 0.8129 - val_loss: 0.9277 - val_accuracy: 0.6567\n",
            "Epoch 20/50\n",
            "88/88 [==============================] - 0s 2ms/step - loss: 0.5906 - accuracy: 0.8014 - val_loss: 0.9165 - val_accuracy: 0.6567\n",
            "Epoch 21/50\n",
            "88/88 [==============================] - 0s 2ms/step - loss: 0.5451 - accuracy: 0.8229 - val_loss: 0.9227 - val_accuracy: 0.6567\n",
            "Epoch 22/50\n",
            "88/88 [==============================] - 0s 2ms/step - loss: 0.5625 - accuracy: 0.8029 - val_loss: 0.9272 - val_accuracy: 0.6600\n",
            "Epoch 23/50\n",
            "88/88 [==============================] - 0s 2ms/step - loss: 0.5669 - accuracy: 0.8000 - val_loss: 0.9132 - val_accuracy: 0.6967\n",
            "Epoch 24/50\n",
            "88/88 [==============================] - 0s 2ms/step - loss: 0.5338 - accuracy: 0.8143 - val_loss: 0.9075 - val_accuracy: 0.6700\n",
            "Epoch 25/50\n",
            "88/88 [==============================] - 0s 2ms/step - loss: 0.5110 - accuracy: 0.8200 - val_loss: 0.9144 - val_accuracy: 0.6767\n",
            "Epoch 26/50\n",
            "88/88 [==============================] - 0s 2ms/step - loss: 0.5014 - accuracy: 0.8286 - val_loss: 0.9221 - val_accuracy: 0.6733\n",
            "Epoch 27/50\n",
            "88/88 [==============================] - 0s 2ms/step - loss: 0.5129 - accuracy: 0.8186 - val_loss: 0.9229 - val_accuracy: 0.6733\n",
            "Epoch 28/50\n",
            "88/88 [==============================] - 0s 3ms/step - loss: 0.4608 - accuracy: 0.8471 - val_loss: 0.9130 - val_accuracy: 0.6700\n",
            "Epoch 29/50\n",
            "88/88 [==============================] - 0s 2ms/step - loss: 0.4715 - accuracy: 0.8400 - val_loss: 0.9427 - val_accuracy: 0.6800\n",
            "Epoch 30/50\n",
            "88/88 [==============================] - 0s 3ms/step - loss: 0.4634 - accuracy: 0.8429 - val_loss: 0.9332 - val_accuracy: 0.6733\n",
            "Epoch 31/50\n",
            "88/88 [==============================] - 0s 2ms/step - loss: 0.4468 - accuracy: 0.8514 - val_loss: 0.9360 - val_accuracy: 0.6800\n",
            "Epoch 32/50\n",
            "88/88 [==============================] - 0s 3ms/step - loss: 0.4390 - accuracy: 0.8643 - val_loss: 0.9647 - val_accuracy: 0.6767\n",
            "Epoch 33/50\n",
            "88/88 [==============================] - 0s 2ms/step - loss: 0.4363 - accuracy: 0.8671 - val_loss: 0.9440 - val_accuracy: 0.6833\n",
            "Epoch 34/50\n",
            "88/88 [==============================] - 0s 2ms/step - loss: 0.3869 - accuracy: 0.8943 - val_loss: 0.9449 - val_accuracy: 0.6867\n",
            "Epoch 35/50\n",
            "88/88 [==============================] - 0s 2ms/step - loss: 0.4301 - accuracy: 0.8571 - val_loss: 0.9443 - val_accuracy: 0.6967\n",
            "Epoch 36/50\n",
            "88/88 [==============================] - 0s 2ms/step - loss: 0.3970 - accuracy: 0.8743 - val_loss: 0.9368 - val_accuracy: 0.6933\n",
            "Epoch 37/50\n",
            "88/88 [==============================] - 0s 2ms/step - loss: 0.3667 - accuracy: 0.8786 - val_loss: 0.9351 - val_accuracy: 0.6933\n",
            "Epoch 38/50\n",
            "88/88 [==============================] - 0s 2ms/step - loss: 0.3820 - accuracy: 0.8743 - val_loss: 0.9250 - val_accuracy: 0.6967\n",
            "Epoch 39/50\n",
            "88/88 [==============================] - 0s 2ms/step - loss: 0.3715 - accuracy: 0.8771 - val_loss: 0.9504 - val_accuracy: 0.6967\n",
            "Epoch 40/50\n",
            "88/88 [==============================] - 0s 3ms/step - loss: 0.3701 - accuracy: 0.8871 - val_loss: 0.9450 - val_accuracy: 0.6833\n",
            "Epoch 41/50\n",
            "88/88 [==============================] - 0s 2ms/step - loss: 0.3553 - accuracy: 0.8843 - val_loss: 0.9480 - val_accuracy: 0.6933\n",
            "Epoch 42/50\n",
            "88/88 [==============================] - 0s 2ms/step - loss: 0.3518 - accuracy: 0.8843 - val_loss: 0.9625 - val_accuracy: 0.6833\n",
            "Epoch 43/50\n",
            "88/88 [==============================] - 0s 2ms/step - loss: 0.3353 - accuracy: 0.8814 - val_loss: 0.9632 - val_accuracy: 0.6967\n",
            "Epoch 44/50\n",
            "88/88 [==============================] - 0s 2ms/step - loss: 0.3552 - accuracy: 0.8814 - val_loss: 0.9710 - val_accuracy: 0.6900\n",
            "Epoch 45/50\n",
            "88/88 [==============================] - 0s 2ms/step - loss: 0.3355 - accuracy: 0.8986 - val_loss: 0.9487 - val_accuracy: 0.6933\n",
            "Epoch 46/50\n",
            "88/88 [==============================] - 0s 3ms/step - loss: 0.3165 - accuracy: 0.8871 - val_loss: 0.9690 - val_accuracy: 0.7033\n",
            "Epoch 47/50\n",
            "88/88 [==============================] - 0s 2ms/step - loss: 0.3349 - accuracy: 0.8857 - val_loss: 0.9809 - val_accuracy: 0.7133\n",
            "Epoch 48/50\n",
            "88/88 [==============================] - 0s 2ms/step - loss: 0.3211 - accuracy: 0.9043 - val_loss: 0.9548 - val_accuracy: 0.7100\n",
            "Epoch 49/50\n",
            "88/88 [==============================] - 0s 2ms/step - loss: 0.3410 - accuracy: 0.8900 - val_loss: 0.9625 - val_accuracy: 0.7200\n",
            "Epoch 50/50\n",
            "88/88 [==============================] - 0s 2ms/step - loss: 0.3155 - accuracy: 0.9057 - val_loss: 0.9738 - val_accuracy: 0.7067\n"
          ]
        },
        {
          "output_type": "display_data",
          "data": {
            "image/png": "[encoded data removed]",
            "text/plain": [
              "<Figure size 432x288 with 1 Axes>"
            ]
          },
          "metadata": {
            "needs_background": "light"
          }
        },
        {
          "output_type": "display_data",
          "data": {
            "image/png": "[encoded data removed]",
            "text/plain": [
              "<Figure size 432x288 with 1 Axes>"
            ]
          },
          "metadata": {
            "needs_background": "light"
          }
        }
      ]
    },
    {
      "cell_type": "markdown",
      "metadata": {
        "id": "lNl3zuNGnagu"
      },
      "source": [
        "## Question 3 Part D"
      ]
    },
    {
      "cell_type": "markdown",
      "metadata": {
        "id": "Df2CqknWnj-Z"
      },
      "source": [
        "Comment: \n",
        "\n",
        "There are still some parameters to be tuned, such as learning rate, activation functions, dropout rate, number of layers for this experiment.\n",
        "\n",
        "Other than this experiment setting, there are parameters such as momentum beta, learning rate decay, regularization lambda and others."
      ]
    },
    {
      "cell_type": "markdown",
      "metadata": {
        "id": "9LPZ6OYUsZ89"
      },
      "source": [
        "# <a name=\"Q3\">Question 4</a>"
      ]
    },
    {
      "cell_type": "markdown",
      "metadata": {
        "id": "eeghllZknhsn"
      },
      "source": [
        "## Question 4 Part A"
      ]
    },
    {
      "cell_type": "code",
      "metadata": {
        "colab": {
          "base_uri": "https://localhost:8080/"
        },
        "id": "FhMPgcP-k4lh",
        "outputId": "4d4e1139-f15f-4fe0-b02e-df9b13829f7c"
      },
      "source": [
        "# 3 layer model with optimal nueron\n",
        "\n",
        "keras.backend.clear_session()\n",
        "three_layer_model = Sequential([\n",
        "    \n",
        "    Dense(64, activation='relu', input_shape=(57,)),\n",
        "    Dropout(0.3),\n",
        "\n",
        "    Dense(64, activation='relu'),\n",
        "    Dropout(0.3),\n",
        "\n",
        "    Dense(units = num_labels, activation='softmax')\n",
        "])\n",
        "\n",
        "three_layer_model.summary()\n"
      ],
      "execution_count": 28,
      "outputs": [
        {
          "output_type": "stream",
          "name": "stdout",
          "text": [
            "Model: \"sequential\"\n",
            "_________________________________________________________________\n",
            "Layer (type)                 Output Shape              Param #   \n",
            "=================================================================\n",
            "dense (Dense)                (None, 64)                3712      \n",
            "_________________________________________________________________\n",
            "dropout (Dropout)            (None, 64)                0         \n",
            "_________________________________________________________________\n",
            "dense_1 (Dense)              (None, 64)                4160      \n",
            "_________________________________________________________________\n",
            "dropout_1 (Dropout)          (None, 64)                0         \n",
            "_________________________________________________________________\n",
            "dense_2 (Dense)              (None, 10)                650       \n",
            "=================================================================\n",
            "Total params: 8,522\n",
            "Trainable params: 8,522\n",
            "Non-trainable params: 0\n",
            "_________________________________________________________________\n"
          ]
        }
      ]
    },
    {
      "cell_type": "code",
      "metadata": {
        "colab": {
          "base_uri": "https://localhost:8080/",
          "height": 1000
        },
        "id": "RurSq8xDkzpl",
        "outputId": "a6a875c0-c753-4847-b512-186923baa03d"
      },
      "source": [
        "\n",
        "three_layer_model.compile(optimizer='adam',\n",
        "              loss='categorical_crossentropy',\n",
        "              metrics=['accuracy'])\n",
        "\n",
        "three_layer_history = three_layer_model.fit(\n",
        "    X_train, y_train,batch_size=1, epochs=50, verbose=1,validation_data=(X_test, y_test)\n",
        ")\n",
        "keras.backend.clear_session()\n",
        "plot_accuracy(three_layer_history)\n",
        "plot_loss(three_layer_history)\n"
      ],
      "execution_count": 29,
      "outputs": [
        {
          "output_type": "stream",
          "name": "stdout",
          "text": [
            "Epoch 1/50\n",
            "700/700 [==============================] - 2s 2ms/step - loss: 1.9237 - accuracy: 0.3300 - val_loss: 1.4900 - val_accuracy: 0.4700\n",
            "Epoch 2/50\n",
            "700/700 [==============================] - 1s 2ms/step - loss: 1.3980 - accuracy: 0.5057 - val_loss: 1.2726 - val_accuracy: 0.5533\n",
            "Epoch 3/50\n",
            "700/700 [==============================] - 2s 2ms/step - loss: 1.1816 - accuracy: 0.6086 - val_loss: 1.1654 - val_accuracy: 0.5967\n",
            "Epoch 4/50\n",
            "700/700 [==============================] - 1s 2ms/step - loss: 1.0605 - accuracy: 0.6243 - val_loss: 1.1765 - val_accuracy: 0.5933\n",
            "Epoch 5/50\n",
            "700/700 [==============================] - 2s 2ms/step - loss: 0.9715 - accuracy: 0.6814 - val_loss: 1.0879 - val_accuracy: 0.6200\n",
            "Epoch 6/50\n",
            "700/700 [==============================] - 1s 2ms/step - loss: 0.8782 - accuracy: 0.6914 - val_loss: 1.0448 - val_accuracy: 0.6367\n",
            "Epoch 7/50\n",
            "700/700 [==============================] - 1s 2ms/step - loss: 0.9084 - accuracy: 0.6814 - val_loss: 1.0196 - val_accuracy: 0.6333\n",
            "Epoch 8/50\n",
            "700/700 [==============================] - 1s 2ms/step - loss: 0.8089 - accuracy: 0.7143 - val_loss: 1.0641 - val_accuracy: 0.6333\n",
            "Epoch 9/50\n",
            "700/700 [==============================] - 1s 2ms/step - loss: 0.7954 - accuracy: 0.7214 - val_loss: 1.0564 - val_accuracy: 0.6333\n",
            "Epoch 10/50\n",
            "700/700 [==============================] - 1s 2ms/step - loss: 0.7421 - accuracy: 0.7457 - val_loss: 0.9745 - val_accuracy: 0.6567\n",
            "Epoch 11/50\n",
            "700/700 [==============================] - 1s 2ms/step - loss: 0.7160 - accuracy: 0.7586 - val_loss: 1.0574 - val_accuracy: 0.6267\n",
            "Epoch 12/50\n",
            "700/700 [==============================] - 1s 2ms/step - loss: 0.6740 - accuracy: 0.7557 - val_loss: 0.9969 - val_accuracy: 0.6567\n",
            "Epoch 13/50\n",
            "700/700 [==============================] - 1s 2ms/step - loss: 0.6548 - accuracy: 0.7771 - val_loss: 0.9705 - val_accuracy: 0.6900\n",
            "Epoch 14/50\n",
            "700/700 [==============================] - 1s 2ms/step - loss: 0.6533 - accuracy: 0.7571 - val_loss: 1.0348 - val_accuracy: 0.6667\n",
            "Epoch 15/50\n",
            "700/700 [==============================] - 1s 2ms/step - loss: 0.6040 - accuracy: 0.7771 - val_loss: 1.0248 - val_accuracy: 0.6800\n",
            "Epoch 16/50\n",
            "700/700 [==============================] - 1s 2ms/step - loss: 0.6237 - accuracy: 0.7786 - val_loss: 1.0202 - val_accuracy: 0.6567\n",
            "Epoch 17/50\n",
            "700/700 [==============================] - 1s 2ms/step - loss: 0.5262 - accuracy: 0.7971 - val_loss: 1.0246 - val_accuracy: 0.6600\n",
            "Epoch 18/50\n",
            "700/700 [==============================] - 1s 2ms/step - loss: 0.5571 - accuracy: 0.7971 - val_loss: 1.0394 - val_accuracy: 0.6433\n",
            "Epoch 19/50\n",
            "700/700 [==============================] - 1s 2ms/step - loss: 0.5560 - accuracy: 0.8029 - val_loss: 1.0456 - val_accuracy: 0.6800\n",
            "Epoch 20/50\n",
            "700/700 [==============================] - 1s 2ms/step - loss: 0.5680 - accuracy: 0.8129 - val_loss: 1.0670 - val_accuracy: 0.6767\n",
            "Epoch 21/50\n",
            "700/700 [==============================] - 1s 2ms/step - loss: 0.4871 - accuracy: 0.8243 - val_loss: 1.1769 - val_accuracy: 0.6700\n",
            "Epoch 22/50\n",
            "700/700 [==============================] - 1s 2ms/step - loss: 0.4603 - accuracy: 0.8429 - val_loss: 1.1430 - val_accuracy: 0.6600\n",
            "Epoch 23/50\n",
            "700/700 [==============================] - 2s 2ms/step - loss: 0.4574 - accuracy: 0.8486 - val_loss: 1.1697 - val_accuracy: 0.6867\n",
            "Epoch 24/50\n",
            "700/700 [==============================] - 1s 2ms/step - loss: 0.4744 - accuracy: 0.8286 - val_loss: 1.1212 - val_accuracy: 0.6933\n",
            "Epoch 25/50\n",
            "700/700 [==============================] - 1s 2ms/step - loss: 0.4799 - accuracy: 0.8171 - val_loss: 1.1372 - val_accuracy: 0.6867\n",
            "Epoch 26/50\n",
            "700/700 [==============================] - 1s 2ms/step - loss: 0.5493 - accuracy: 0.8043 - val_loss: 1.1008 - val_accuracy: 0.6833\n",
            "Epoch 27/50\n",
            "700/700 [==============================] - 1s 2ms/step - loss: 0.3963 - accuracy: 0.8743 - val_loss: 1.1079 - val_accuracy: 0.6967\n",
            "Epoch 28/50\n",
            "700/700 [==============================] - 1s 2ms/step - loss: 0.3934 - accuracy: 0.8729 - val_loss: 1.1722 - val_accuracy: 0.6933\n",
            "Epoch 29/50\n",
            "700/700 [==============================] - 1s 2ms/step - loss: 0.3579 - accuracy: 0.8786 - val_loss: 1.1620 - val_accuracy: 0.7000\n",
            "Epoch 30/50\n",
            "700/700 [==============================] - 1s 2ms/step - loss: 0.3469 - accuracy: 0.8829 - val_loss: 1.2490 - val_accuracy: 0.6933\n",
            "Epoch 31/50\n",
            "700/700 [==============================] - 1s 2ms/step - loss: 0.4047 - accuracy: 0.8643 - val_loss: 1.1575 - val_accuracy: 0.6933\n",
            "Epoch 32/50\n",
            "700/700 [==============================] - 2s 2ms/step - loss: 0.3502 - accuracy: 0.8700 - val_loss: 1.3178 - val_accuracy: 0.6900\n",
            "Epoch 33/50\n",
            "700/700 [==============================] - 1s 2ms/step - loss: 0.3133 - accuracy: 0.8814 - val_loss: 1.3863 - val_accuracy: 0.6667\n",
            "Epoch 34/50\n",
            "700/700 [==============================] - 1s 2ms/step - loss: 0.4426 - accuracy: 0.8600 - val_loss: 1.3143 - val_accuracy: 0.6767\n",
            "Epoch 35/50\n",
            "700/700 [==============================] - 1s 2ms/step - loss: 0.3648 - accuracy: 0.8629 - val_loss: 1.2413 - val_accuracy: 0.7100\n",
            "Epoch 36/50\n",
            "700/700 [==============================] - 1s 2ms/step - loss: 0.3553 - accuracy: 0.8814 - val_loss: 1.2640 - val_accuracy: 0.6967\n",
            "Epoch 37/50\n",
            "700/700 [==============================] - 1s 2ms/step - loss: 0.3566 - accuracy: 0.8814 - val_loss: 1.2376 - val_accuracy: 0.7100\n",
            "Epoch 38/50\n",
            "700/700 [==============================] - 1s 2ms/step - loss: 0.3745 - accuracy: 0.8686 - val_loss: 1.3810 - val_accuracy: 0.6800\n",
            "Epoch 39/50\n",
            "700/700 [==============================] - 2s 2ms/step - loss: 0.3802 - accuracy: 0.8857 - val_loss: 1.2749 - val_accuracy: 0.7000\n",
            "Epoch 40/50\n",
            "700/700 [==============================] - 1s 2ms/step - loss: 0.2987 - accuracy: 0.8900 - val_loss: 1.3254 - val_accuracy: 0.6967\n",
            "Epoch 41/50\n",
            "700/700 [==============================] - 1s 2ms/step - loss: 0.3406 - accuracy: 0.8771 - val_loss: 1.2089 - val_accuracy: 0.7000\n",
            "Epoch 42/50\n",
            "700/700 [==============================] - 1s 2ms/step - loss: 0.3057 - accuracy: 0.8900 - val_loss: 1.3219 - val_accuracy: 0.7033\n",
            "Epoch 43/50\n",
            "700/700 [==============================] - 1s 2ms/step - loss: 0.3209 - accuracy: 0.9014 - val_loss: 1.2978 - val_accuracy: 0.7100\n",
            "Epoch 44/50\n",
            "700/700 [==============================] - 2s 2ms/step - loss: 0.3219 - accuracy: 0.8886 - val_loss: 1.2497 - val_accuracy: 0.7100\n",
            "Epoch 45/50\n",
            "700/700 [==============================] - 2s 2ms/step - loss: 0.3466 - accuracy: 0.8729 - val_loss: 1.3210 - val_accuracy: 0.7133\n",
            "Epoch 46/50\n",
            "700/700 [==============================] - 1s 2ms/step - loss: 0.3108 - accuracy: 0.9029 - val_loss: 1.3126 - val_accuracy: 0.7033\n",
            "Epoch 47/50\n",
            "700/700 [==============================] - 2s 2ms/step - loss: 0.3145 - accuracy: 0.9029 - val_loss: 1.3068 - val_accuracy: 0.7033\n",
            "Epoch 48/50\n",
            "700/700 [==============================] - 1s 2ms/step - loss: 0.2438 - accuracy: 0.9229 - val_loss: 1.3438 - val_accuracy: 0.7133\n",
            "Epoch 49/50\n",
            "700/700 [==============================] - 1s 2ms/step - loss: 0.2921 - accuracy: 0.9014 - val_loss: 1.3241 - val_accuracy: 0.6933\n",
            "Epoch 50/50\n",
            "700/700 [==============================] - 1s 2ms/step - loss: 0.2662 - accuracy: 0.9243 - val_loss: 1.4115 - val_accuracy: 0.6900\n"
          ]
        },
        {
          "output_type": "display_data",
          "data": {
            "image/png": "[encoded data removed]",
            "text/plain": [
              "<Figure size 432x288 with 1 Axes>"
            ]
          },
          "metadata": {
            "needs_background": "light"
          }
        },
        {
          "output_type": "display_data",
          "data": {
            "image/png": "[encoded data removed]",
            "text/plain": [
              "<Figure size 432x288 with 1 Axes>"
            ]
          },
          "metadata": {
            "needs_background": "light"
          }
        }
      ]
    },
    {
      "cell_type": "markdown",
      "metadata": {
        "id": "Q2l2HIimsSjx"
      },
      "source": [
        "## Question 4 Part B"
      ]
    },
    {
      "cell_type": "markdown",
      "metadata": {
        "id": "cGb1HxMA3QyH"
      },
      "source": [
        "Answer:\n",
        "\n",
        "Optimal 2-layer network has test accuracy 0.7067, but 3-layer\n",
        "network has only 0.69 and its loss function is not converge. Optimal 2-layer network has better performance than the 3-layer network.\n",
        "\n",
        "Although generally network with more number of hidden layer would have better performance, yet this optimal 2-layer network is still performing better than the 3-layer network.\n",
        "\n",
        "This means a hyperparameter well-tuned network will have better performance.\n"
      ]
    },
    {
      "cell_type": "markdown",
      "metadata": {
        "id": "_MOfCJovsUqh"
      },
      "source": [
        "# <a name=\"Q5\">Question 5</a>"
      ]
    },
    {
      "cell_type": "markdown",
      "metadata": {
        "id": "gMmrPs_K7KcU"
      },
      "source": [
        "## Question 5 Part A"
      ]
    },
    {
      "cell_type": "code",
      "metadata": {
        "colab": {
          "base_uri": "https://localhost:8080/",
          "height": 1000
        },
        "id": "fM1LOk_F6g1s",
        "outputId": "6f351df9-de66-4fd9-ec33-4d1b1ab551f7"
      },
      "source": [
        "# 2 level with dropout\n",
        "\n",
        "orig_model = Sequential([\n",
        "    \n",
        "    Dense(16, activation='relu', input_shape=(57,)),\n",
        "    Dropout(0.3),\n",
        "    Dense(units = num_labels, activation='softmax')\n",
        "])\n",
        "\n",
        "orig_model.compile(optimizer='adam',\n",
        "              loss='categorical_crossentropy',\n",
        "              #loss='mse',\n",
        "              metrics=['accuracy'])\n",
        "\n",
        "orig_history = orig_model.fit(\n",
        "    X_train, y_train,batch_size=1, epochs=50, verbose=1,validation_data=(X_test, y_test)\n",
        ")\n",
        "keras.backend.clear_session()\n",
        "plot_accuracy(orig_history)\n",
        "plot_loss(orig_history)\n",
        "\n"
      ],
      "execution_count": 30,
      "outputs": [
        {
          "output_type": "stream",
          "name": "stdout",
          "text": [
            "Epoch 1/50\n",
            "700/700 [==============================] - 2s 2ms/step - loss: 2.1698 - accuracy: 0.2400 - val_loss: 1.7799 - val_accuracy: 0.3633\n",
            "Epoch 2/50\n",
            "700/700 [==============================] - 1s 2ms/step - loss: 1.7600 - accuracy: 0.3700 - val_loss: 1.5712 - val_accuracy: 0.4367\n",
            "Epoch 3/50\n",
            "700/700 [==============================] - 1s 2ms/step - loss: 1.4832 - accuracy: 0.4729 - val_loss: 1.4239 - val_accuracy: 0.5000\n",
            "Epoch 4/50\n",
            "700/700 [==============================] - 1s 2ms/step - loss: 1.3883 - accuracy: 0.4986 - val_loss: 1.3569 - val_accuracy: 0.5000\n",
            "Epoch 5/50\n",
            "700/700 [==============================] - 1s 2ms/step - loss: 1.2994 - accuracy: 0.5171 - val_loss: 1.2503 - val_accuracy: 0.5700\n",
            "Epoch 6/50\n",
            "700/700 [==============================] - 1s 2ms/step - loss: 1.1829 - accuracy: 0.5671 - val_loss: 1.1915 - val_accuracy: 0.6033\n",
            "Epoch 7/50\n",
            "700/700 [==============================] - 1s 2ms/step - loss: 1.1775 - accuracy: 0.5900 - val_loss: 1.1686 - val_accuracy: 0.6100\n",
            "Epoch 8/50\n",
            "700/700 [==============================] - 1s 2ms/step - loss: 1.1293 - accuracy: 0.5843 - val_loss: 1.1432 - val_accuracy: 0.6267\n",
            "Epoch 9/50\n",
            "700/700 [==============================] - 1s 2ms/step - loss: 1.0795 - accuracy: 0.5986 - val_loss: 1.1086 - val_accuracy: 0.6233\n",
            "Epoch 10/50\n",
            "700/700 [==============================] - 1s 2ms/step - loss: 1.0308 - accuracy: 0.6200 - val_loss: 1.0966 - val_accuracy: 0.6367\n",
            "Epoch 11/50\n",
            "700/700 [==============================] - 1s 2ms/step - loss: 1.0468 - accuracy: 0.6343 - val_loss: 1.0517 - val_accuracy: 0.6633\n",
            "Epoch 12/50\n",
            "700/700 [==============================] - 1s 2ms/step - loss: 1.0482 - accuracy: 0.6129 - val_loss: 1.0672 - val_accuracy: 0.6433\n",
            "Epoch 13/50\n",
            "700/700 [==============================] - 1s 2ms/step - loss: 1.0241 - accuracy: 0.6171 - val_loss: 1.0496 - val_accuracy: 0.6500\n",
            "Epoch 14/50\n",
            "700/700 [==============================] - 1s 2ms/step - loss: 0.9493 - accuracy: 0.6586 - val_loss: 1.0242 - val_accuracy: 0.6700\n",
            "Epoch 15/50\n",
            "700/700 [==============================] - 1s 2ms/step - loss: 0.9573 - accuracy: 0.6586 - val_loss: 1.0248 - val_accuracy: 0.6567\n",
            "Epoch 16/50\n",
            "700/700 [==============================] - 1s 2ms/step - loss: 0.9219 - accuracy: 0.6686 - val_loss: 1.0178 - val_accuracy: 0.6933\n",
            "Epoch 17/50\n",
            "700/700 [==============================] - 1s 2ms/step - loss: 0.9222 - accuracy: 0.6629 - val_loss: 1.0538 - val_accuracy: 0.6567\n",
            "Epoch 18/50\n",
            "700/700 [==============================] - 1s 2ms/step - loss: 0.9296 - accuracy: 0.6614 - val_loss: 1.0579 - val_accuracy: 0.6600\n",
            "Epoch 19/50\n",
            "700/700 [==============================] - 1s 2ms/step - loss: 0.9003 - accuracy: 0.6686 - val_loss: 1.0230 - val_accuracy: 0.6667\n",
            "Epoch 20/50\n",
            "700/700 [==============================] - 1s 2ms/step - loss: 0.8639 - accuracy: 0.6800 - val_loss: 1.0113 - val_accuracy: 0.6633\n",
            "Epoch 21/50\n",
            "700/700 [==============================] - 1s 2ms/step - loss: 0.8530 - accuracy: 0.6729 - val_loss: 1.0253 - val_accuracy: 0.6867\n",
            "Epoch 22/50\n",
            "700/700 [==============================] - 1s 2ms/step - loss: 0.8743 - accuracy: 0.6657 - val_loss: 1.0089 - val_accuracy: 0.6933\n",
            "Epoch 23/50\n",
            "700/700 [==============================] - 1s 2ms/step - loss: 0.8597 - accuracy: 0.6771 - val_loss: 1.0315 - val_accuracy: 0.6867\n",
            "Epoch 24/50\n",
            "700/700 [==============================] - 1s 2ms/step - loss: 0.8788 - accuracy: 0.6757 - val_loss: 1.0165 - val_accuracy: 0.6967\n",
            "Epoch 25/50\n",
            "700/700 [==============================] - 1s 2ms/step - loss: 0.8095 - accuracy: 0.7143 - val_loss: 1.0050 - val_accuracy: 0.6833\n",
            "Epoch 26/50\n",
            "700/700 [==============================] - 1s 2ms/step - loss: 0.8114 - accuracy: 0.7086 - val_loss: 0.9965 - val_accuracy: 0.7000\n",
            "Epoch 27/50\n",
            "700/700 [==============================] - 1s 2ms/step - loss: 0.8105 - accuracy: 0.6971 - val_loss: 1.0140 - val_accuracy: 0.6967\n",
            "Epoch 28/50\n",
            "700/700 [==============================] - 1s 2ms/step - loss: 0.7971 - accuracy: 0.7214 - val_loss: 1.0219 - val_accuracy: 0.6867\n",
            "Epoch 29/50\n",
            "700/700 [==============================] - 1s 2ms/step - loss: 0.8158 - accuracy: 0.7071 - val_loss: 1.0101 - val_accuracy: 0.6967\n",
            "Epoch 30/50\n",
            "700/700 [==============================] - 1s 2ms/step - loss: 0.8026 - accuracy: 0.7086 - val_loss: 1.0306 - val_accuracy: 0.7033\n",
            "Epoch 31/50\n",
            "700/700 [==============================] - 1s 2ms/step - loss: 0.7962 - accuracy: 0.7171 - val_loss: 1.0017 - val_accuracy: 0.7033\n",
            "Epoch 32/50\n",
            "700/700 [==============================] - 1s 2ms/step - loss: 0.7803 - accuracy: 0.7157 - val_loss: 1.0396 - val_accuracy: 0.6867\n",
            "Epoch 33/50\n",
            "700/700 [==============================] - 1s 2ms/step - loss: 0.7411 - accuracy: 0.7243 - val_loss: 1.0433 - val_accuracy: 0.6833\n",
            "Epoch 34/50\n",
            "700/700 [==============================] - 1s 2ms/step - loss: 0.7654 - accuracy: 0.7243 - val_loss: 1.0561 - val_accuracy: 0.7033\n",
            "Epoch 35/50\n",
            "700/700 [==============================] - 1s 2ms/step - loss: 0.7258 - accuracy: 0.7257 - val_loss: 1.0643 - val_accuracy: 0.6900\n",
            "Epoch 36/50\n",
            "700/700 [==============================] - 1s 2ms/step - loss: 0.7121 - accuracy: 0.7314 - val_loss: 1.0547 - val_accuracy: 0.6833\n",
            "Epoch 37/50\n",
            "700/700 [==============================] - 1s 2ms/step - loss: 0.7492 - accuracy: 0.7243 - val_loss: 1.0648 - val_accuracy: 0.6867\n",
            "Epoch 38/50\n",
            "700/700 [==============================] - 1s 2ms/step - loss: 0.7292 - accuracy: 0.7129 - val_loss: 1.0731 - val_accuracy: 0.6967\n",
            "Epoch 39/50\n",
            "700/700 [==============================] - 1s 2ms/step - loss: 0.7383 - accuracy: 0.7357 - val_loss: 1.0973 - val_accuracy: 0.6967\n",
            "Epoch 40/50\n",
            "700/700 [==============================] - 1s 2ms/step - loss: 0.7407 - accuracy: 0.7300 - val_loss: 1.1019 - val_accuracy: 0.6667\n",
            "Epoch 41/50\n",
            "700/700 [==============================] - 1s 2ms/step - loss: 0.6905 - accuracy: 0.7186 - val_loss: 1.0969 - val_accuracy: 0.6900\n",
            "Epoch 42/50\n",
            "700/700 [==============================] - 1s 2ms/step - loss: 0.7241 - accuracy: 0.7157 - val_loss: 1.1378 - val_accuracy: 0.6800\n",
            "Epoch 43/50\n",
            "700/700 [==============================] - 1s 2ms/step - loss: 0.6583 - accuracy: 0.7729 - val_loss: 1.1693 - val_accuracy: 0.6833\n",
            "Epoch 44/50\n",
            "700/700 [==============================] - 1s 2ms/step - loss: 0.7129 - accuracy: 0.7343 - val_loss: 1.1278 - val_accuracy: 0.6900\n",
            "Epoch 45/50\n",
            "700/700 [==============================] - 1s 2ms/step - loss: 0.7414 - accuracy: 0.7114 - val_loss: 1.1781 - val_accuracy: 0.6967\n",
            "Epoch 46/50\n",
            "700/700 [==============================] - 1s 2ms/step - loss: 0.7210 - accuracy: 0.7371 - val_loss: 1.1256 - val_accuracy: 0.7100\n",
            "Epoch 47/50\n",
            "700/700 [==============================] - 1s 2ms/step - loss: 0.7016 - accuracy: 0.7314 - val_loss: 1.1676 - val_accuracy: 0.6900\n",
            "Epoch 48/50\n",
            "700/700 [==============================] - 1s 2ms/step - loss: 0.7390 - accuracy: 0.7229 - val_loss: 1.1818 - val_accuracy: 0.6900\n",
            "Epoch 49/50\n",
            "700/700 [==============================] - 1s 2ms/step - loss: 0.6567 - accuracy: 0.7443 - val_loss: 1.1573 - val_accuracy: 0.6833\n",
            "Epoch 50/50\n",
            "700/700 [==============================] - 1s 2ms/step - loss: 0.6668 - accuracy: 0.7414 - val_loss: 1.2150 - val_accuracy: 0.7033\n"
          ]
        },
        {
          "output_type": "display_data",
          "data": {
            "image/png": "[encoded data removed]",
            "text/plain": [
              "<Figure size 432x288 with 1 Axes>"
            ]
          },
          "metadata": {
            "needs_background": "light"
          }
        },
        {
          "output_type": "display_data",
          "data": {
            "image/png": "[encoded data removed]",
            "text/plain": [
              "<Figure size 432x288 with 1 Axes>"
            ]
          },
          "metadata": {
            "needs_background": "light"
          }
        }
      ]
    },
    {
      "cell_type": "code",
      "metadata": {
        "colab": {
          "base_uri": "https://localhost:8080/",
          "height": 1000
        },
        "id": "5RXJmg48HVum",
        "outputId": "b5c4183e-1f81-42bb-b8e2-bab2cd67d2d7"
      },
      "source": [
        "# 2 level without dropout\n",
        "\n",
        "orig_without_dropout_model = Sequential([\n",
        "    \n",
        "    Dense(32, activation='relu', input_shape=(57,)),\n",
        "\n",
        "    Dense(units = num_labels, activation='softmax')\n",
        "])\n",
        "\n",
        "orig_without_dropout_model.compile(optimizer='adam',\n",
        "              loss='categorical_crossentropy',\n",
        "              #loss='mse',\n",
        "              metrics=['accuracy'])\n",
        "\n",
        "orig_without_dropout_history = orig_without_dropout_model.fit(\n",
        "    X_train, y_train,batch_size=1, epochs=50, verbose=1,validation_data=(X_test, y_test)\n",
        ")\n",
        "keras.backend.clear_session()\n",
        "plot_accuracy(orig_without_dropout_history)\n",
        "plot_loss(orig_without_dropout_history)\n",
        "\n"
      ],
      "execution_count": 31,
      "outputs": [
        {
          "output_type": "stream",
          "name": "stdout",
          "text": [
            "Epoch 1/50\n",
            "700/700 [==============================] - 2s 2ms/step - loss: 1.7255 - accuracy: 0.3843 - val_loss: 1.4250 - val_accuracy: 0.4733\n",
            "Epoch 2/50\n",
            "700/700 [==============================] - 1s 2ms/step - loss: 1.1682 - accuracy: 0.5914 - val_loss: 1.2234 - val_accuracy: 0.5500\n",
            "Epoch 3/50\n",
            "700/700 [==============================] - 1s 2ms/step - loss: 0.9604 - accuracy: 0.6886 - val_loss: 1.1238 - val_accuracy: 0.5800\n",
            "Epoch 4/50\n",
            "700/700 [==============================] - 1s 2ms/step - loss: 0.8170 - accuracy: 0.7414 - val_loss: 1.0803 - val_accuracy: 0.5867\n",
            "Epoch 5/50\n",
            "700/700 [==============================] - 1s 2ms/step - loss: 0.7182 - accuracy: 0.7743 - val_loss: 1.0303 - val_accuracy: 0.6300\n",
            "Epoch 6/50\n",
            "700/700 [==============================] - 1s 2ms/step - loss: 0.6447 - accuracy: 0.7829 - val_loss: 1.0250 - val_accuracy: 0.6300\n",
            "Epoch 7/50\n",
            "700/700 [==============================] - 1s 2ms/step - loss: 0.5629 - accuracy: 0.8257 - val_loss: 1.0226 - val_accuracy: 0.6333\n",
            "Epoch 8/50\n",
            "700/700 [==============================] - 1s 2ms/step - loss: 0.5073 - accuracy: 0.8471 - val_loss: 1.0149 - val_accuracy: 0.6367\n",
            "Epoch 9/50\n",
            "700/700 [==============================] - 1s 2ms/step - loss: 0.4613 - accuracy: 0.8614 - val_loss: 1.0304 - val_accuracy: 0.6633\n",
            "Epoch 10/50\n",
            "700/700 [==============================] - 1s 2ms/step - loss: 0.4159 - accuracy: 0.8729 - val_loss: 1.0377 - val_accuracy: 0.6700\n",
            "Epoch 11/50\n",
            "700/700 [==============================] - 1s 2ms/step - loss: 0.3779 - accuracy: 0.8886 - val_loss: 1.0767 - val_accuracy: 0.6733\n",
            "Epoch 12/50\n",
            "700/700 [==============================] - 1s 2ms/step - loss: 0.3463 - accuracy: 0.8971 - val_loss: 1.0812 - val_accuracy: 0.6600\n",
            "Epoch 13/50\n",
            "700/700 [==============================] - 1s 2ms/step - loss: 0.3206 - accuracy: 0.9186 - val_loss: 1.1062 - val_accuracy: 0.6767\n",
            "Epoch 14/50\n",
            "700/700 [==============================] - 1s 2ms/step - loss: 0.2869 - accuracy: 0.9157 - val_loss: 1.1278 - val_accuracy: 0.6833\n",
            "Epoch 15/50\n",
            "700/700 [==============================] - 1s 2ms/step - loss: 0.2696 - accuracy: 0.9343 - val_loss: 1.2069 - val_accuracy: 0.6600\n",
            "Epoch 16/50\n",
            "700/700 [==============================] - 1s 2ms/step - loss: 0.2381 - accuracy: 0.9400 - val_loss: 1.2335 - val_accuracy: 0.6800\n",
            "Epoch 17/50\n",
            "700/700 [==============================] - 1s 2ms/step - loss: 0.2292 - accuracy: 0.9457 - val_loss: 1.2799 - val_accuracy: 0.6567\n",
            "Epoch 18/50\n",
            "700/700 [==============================] - 1s 2ms/step - loss: 0.2044 - accuracy: 0.9414 - val_loss: 1.2910 - val_accuracy: 0.6667\n",
            "Epoch 19/50\n",
            "700/700 [==============================] - 1s 2ms/step - loss: 0.1805 - accuracy: 0.9600 - val_loss: 1.3290 - val_accuracy: 0.6733\n",
            "Epoch 20/50\n",
            "700/700 [==============================] - 1s 2ms/step - loss: 0.1681 - accuracy: 0.9629 - val_loss: 1.3657 - val_accuracy: 0.6800\n",
            "Epoch 21/50\n",
            "700/700 [==============================] - 1s 2ms/step - loss: 0.1501 - accuracy: 0.9643 - val_loss: 1.3859 - val_accuracy: 0.6900\n",
            "Epoch 22/50\n",
            "700/700 [==============================] - 1s 2ms/step - loss: 0.1428 - accuracy: 0.9657 - val_loss: 1.3945 - val_accuracy: 0.6900\n",
            "Epoch 23/50\n",
            "700/700 [==============================] - 1s 2ms/step - loss: 0.1185 - accuracy: 0.9871 - val_loss: 1.4762 - val_accuracy: 0.6733\n",
            "Epoch 24/50\n",
            "700/700 [==============================] - 1s 2ms/step - loss: 0.1117 - accuracy: 0.9843 - val_loss: 1.4862 - val_accuracy: 0.6900\n",
            "Epoch 25/50\n",
            "700/700 [==============================] - 1s 2ms/step - loss: 0.1042 - accuracy: 0.9829 - val_loss: 1.5558 - val_accuracy: 0.6833\n",
            "Epoch 26/50\n",
            "700/700 [==============================] - 1s 2ms/step - loss: 0.0829 - accuracy: 0.9943 - val_loss: 1.5952 - val_accuracy: 0.6833\n",
            "Epoch 27/50\n",
            "700/700 [==============================] - 1s 2ms/step - loss: 0.0835 - accuracy: 0.9857 - val_loss: 1.6325 - val_accuracy: 0.6733\n",
            "Epoch 28/50\n",
            "700/700 [==============================] - 1s 2ms/step - loss: 0.0744 - accuracy: 0.9886 - val_loss: 1.7151 - val_accuracy: 0.6733\n",
            "Epoch 29/50\n",
            "700/700 [==============================] - 1s 2ms/step - loss: 0.0665 - accuracy: 0.9929 - val_loss: 1.7284 - val_accuracy: 0.6700\n",
            "Epoch 30/50\n",
            "700/700 [==============================] - 1s 2ms/step - loss: 0.0527 - accuracy: 0.9986 - val_loss: 1.7848 - val_accuracy: 0.6700\n",
            "Epoch 31/50\n",
            "700/700 [==============================] - 1s 2ms/step - loss: 0.0531 - accuracy: 0.9971 - val_loss: 1.8795 - val_accuracy: 0.6733\n",
            "Epoch 32/50\n",
            "700/700 [==============================] - 1s 2ms/step - loss: 0.0471 - accuracy: 0.9971 - val_loss: 1.8744 - val_accuracy: 0.6667\n",
            "Epoch 33/50\n",
            "700/700 [==============================] - 1s 2ms/step - loss: 0.0438 - accuracy: 0.9971 - val_loss: 1.9389 - val_accuracy: 0.6700\n",
            "Epoch 34/50\n",
            "700/700 [==============================] - 1s 2ms/step - loss: 0.0373 - accuracy: 0.9957 - val_loss: 2.0025 - val_accuracy: 0.6633\n",
            "Epoch 35/50\n",
            "700/700 [==============================] - 1s 2ms/step - loss: 0.0316 - accuracy: 1.0000 - val_loss: 1.9895 - val_accuracy: 0.6833\n",
            "Epoch 36/50\n",
            "700/700 [==============================] - 1s 2ms/step - loss: 0.0260 - accuracy: 1.0000 - val_loss: 2.0766 - val_accuracy: 0.6700\n",
            "Epoch 37/50\n",
            "700/700 [==============================] - 1s 2ms/step - loss: 0.0254 - accuracy: 0.9986 - val_loss: 2.1115 - val_accuracy: 0.6700\n",
            "Epoch 38/50\n",
            "700/700 [==============================] - 1s 2ms/step - loss: 0.0226 - accuracy: 1.0000 - val_loss: 2.1388 - val_accuracy: 0.6700\n",
            "Epoch 39/50\n",
            "700/700 [==============================] - 1s 2ms/step - loss: 0.0262 - accuracy: 1.0000 - val_loss: 2.2368 - val_accuracy: 0.6767\n",
            "Epoch 40/50\n",
            "700/700 [==============================] - 1s 2ms/step - loss: 0.0171 - accuracy: 1.0000 - val_loss: 2.2285 - val_accuracy: 0.6633\n",
            "Epoch 41/50\n",
            "700/700 [==============================] - 1s 2ms/step - loss: 0.0143 - accuracy: 1.0000 - val_loss: 2.2503 - val_accuracy: 0.6767\n",
            "Epoch 42/50\n",
            "700/700 [==============================] - 1s 2ms/step - loss: 0.0133 - accuracy: 1.0000 - val_loss: 2.3544 - val_accuracy: 0.6700\n",
            "Epoch 43/50\n",
            "700/700 [==============================] - 1s 2ms/step - loss: 0.0116 - accuracy: 1.0000 - val_loss: 2.3001 - val_accuracy: 0.6700\n",
            "Epoch 44/50\n",
            "700/700 [==============================] - 1s 2ms/step - loss: 0.0126 - accuracy: 1.0000 - val_loss: 2.4434 - val_accuracy: 0.6733\n",
            "Epoch 45/50\n",
            "700/700 [==============================] - 1s 2ms/step - loss: 0.0249 - accuracy: 0.9971 - val_loss: 2.4459 - val_accuracy: 0.6800\n",
            "Epoch 46/50\n",
            "700/700 [==============================] - 1s 2ms/step - loss: 0.0095 - accuracy: 1.0000 - val_loss: 2.4837 - val_accuracy: 0.6833\n",
            "Epoch 47/50\n",
            "700/700 [==============================] - 1s 2ms/step - loss: 0.0067 - accuracy: 1.0000 - val_loss: 2.5533 - val_accuracy: 0.6767\n",
            "Epoch 48/50\n",
            "700/700 [==============================] - 1s 2ms/step - loss: 0.0064 - accuracy: 1.0000 - val_loss: 2.5938 - val_accuracy: 0.6867\n",
            "Epoch 49/50\n",
            "700/700 [==============================] - 1s 2ms/step - loss: 0.0065 - accuracy: 1.0000 - val_loss: 2.6704 - val_accuracy: 0.6733\n",
            "Epoch 50/50\n",
            "700/700 [==============================] - 1s 2ms/step - loss: 0.0052 - accuracy: 1.0000 - val_loss: 2.7885 - val_accuracy: 0.6767\n"
          ]
        },
        {
          "output_type": "display_data",
          "data": {
            "image/png": "[encoded data removed]",
            "text/plain": [
              "<Figure size 432x288 with 1 Axes>"
            ]
          },
          "metadata": {
            "needs_background": "light"
          }
        },
        {
          "output_type": "display_data",
          "data": {
            "image/png": "[encoded data removed]",
            "text/plain": [
              "<Figure size 432x288 with 1 Axes>"
            ]
          },
          "metadata": {
            "needs_background": "light"
          }
        }
      ]
    },
    {
      "cell_type": "markdown",
      "metadata": {
        "id": "dwAB-xxK7O8T"
      },
      "source": [
        "## Question 5 Part B"
      ]
    },
    {
      "cell_type": "markdown",
      "metadata": {
        "id": "46UjTRlz7WVl"
      },
      "source": [
        "Answers:\n",
        "\n",
        "Original 2-layer network with dropout has train accuracy 0.7414 and valid accuracy 0.7033, but without dropout, it has train accuracy 1.0000 and valid accuracy: 0.6767. \n",
        "\n",
        "This means that 2-layer network without dropout tends to over-fitting. Loss function of 2-layer network without dropout is also not converging. "
      ]
    },
    {
      "cell_type": "markdown",
      "metadata": {
        "id": "hKTtJMKR9DQR"
      },
      "source": [
        "## Question 5 Part C"
      ]
    },
    {
      "cell_type": "markdown",
      "metadata": {
        "id": "mmlUthJE9DMN"
      },
      "source": [
        "There are various other ways to avoid overfitting in the model, such as\n",
        "\n",
        "\n",
        "*   Early Stopping avoids overfitting by attempting to automatically select the inflection point where performance on the test dataset starts to decrease while performance on the training dataset continues to improve as the model starts to overfit\n",
        "*    Regularization by penalize the model during training on the magnitude of the activations or loss functions such as L1 and L2.\n",
        "*   Weight Constraint to constrain the magnitude of weights to be within a range or below a limit.\n",
        "*   Noise: Add statistical/random noise to inputs during training.\n",
        "\n",
        "\n",
        "\n"
      ]
    },
    {
      "cell_type": "markdown",
      "metadata": {
        "id": "sBzStwSV9OqN"
      },
      "source": [
        "# <a name=\"Discuss\">Discussions</a>"
      ]
    },
    {
      "cell_type": "markdown",
      "metadata": {
        "id": "u0ygg3qq9fwK"
      },
      "source": [
        "Comment:\n",
        "\n",
        "Below are some findings after construct this classification model, and we assume we have the raw data of the audio waveforms:\n",
        "\n",
        "* Using Engineered features do helps in constucting better models as it uses the best representation of the sample data to learn a solution to your problem. However, this also leads to lossing data interpretability and excessive removing of noise in training data that would leads to overfitting\n",
        "\n",
        "* Out of the parameters that were tuned, number of neurons gives the most impact. This is because as the number of neurons increase, number of parameters of the network also increased.\n",
        "\n",
        "* Instead of using FFN on engineered features, we can use a 2-D representation of the waveforms like Spectrograms as it works well with Convolutional Neural\n",
        "Networks(CNN). If the dataset can be represented in image, CNN and Artificial Neural Network (ANN) also expected to perform well in terms on genre classification. Relevant pretrained models such as VGG-19 would be useful and achieve performance quickly.\n",
        "\n",
        "* Other than genre classification, task such as Audio Classification e.g. identify the type or source of the music such as singer, or musical instruments;\n",
        "Audio Separation and Segmentation e.g. in case we just want the sound of the violin from the rest of the musical performance; Music Generation and Music Transcription. \n",
        "For similar task such as identify the type or source of the music, changing the labels of the dataset and minor updates on the pipeline's parameters is sufficient as the classification does not differ much. However, for some task that are more complex that are mentioned above, choosing an appropriate neural network architecture with suitable presentation of dataset is needed."
      ]
    }
  ]
}